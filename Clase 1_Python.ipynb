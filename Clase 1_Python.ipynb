{
 "cells": [
  {
   "cell_type": "markdown",
   "metadata": {
    "id": "m0os2if7vEdp"
   },
   "source": [
    "# **TALLER INTRODUCTORIO A PYTHON**\n",
    "\n",
    "# Sesión 1 - \"Introducción a Python\"\n",
    "Este taller introductorio está dirigido a estudiantes de la Economía y Finanzas de la Facultad de Ciencias Sociales y aborda los fundamentos para el desarrollo de habilidades de programación con Python. El objetivo es otorgar los conocimientos fundamentales al estudiante sobre la estructuración del contenido, las mecánicas de funcionamiento y las capacidades de Python como herramienta para la investigación cuantitativa en la ciencia de datos.\n",
    "\n",
    "#### Fecha:\n",
    "10 de marzo\n",
    "#### Duración:\n",
    "10:00 am- 12:00 pm\n",
    "#### Instructores:\n",
    "Daniel Flores (a20200238@pucp.edu.pe)"
   ]
  },
  {
   "cell_type": "markdown",
   "metadata": {
    "id": "cIy0b9nQvEdt"
   },
   "source": [
    "## **Índice**"
   ]
  },
  {
   "cell_type": "markdown",
   "metadata": {
    "id": "QNjex7obvEdu"
   },
   "source": [
    "- <a href='#t1'>1. ¿Qué es la programación?</a>\n",
    "    - <a href='#1.1.'>1.1 Lenguajes de programación</a>\n",
    "    - <a href='#1.2.'>1.2 Tipos de lenguajes de programación</a>\n",
    "    - <a href='#1.3.'>1.3 ¿Por qué Python?</a>\n",
    "- <a href='#t2'>2. Las variables en Python</a>\n",
    "    - <a href='#2.1.'>2.1 Asignación de variables en Python</a>\n",
    "    - <a href='#2.2.'>2.2 Reglas para nombrar variables en Python</a>\n",
    "- <a href='#t3'>3. Tipos de datos I</a>\n",
    "     - <a href='#3.1.'>3.1. Strings</a>\n",
    "     - <a href='#3.2.'>3.2. Intergers y floats</a>\n",
    "     - <a href='#3.3.'>3.3. Booleans</a>\n",
    "- <a href='#t4'>4. Operadores</a>\n",
    "     - <a href='#4.1.'>4.1. Operadores aritméticos</a>\n",
    "     - <a href='#4.2.'>4.2. Operadores de comparación</a>\n",
    "     - <a href='#4.3.'>4.3. Operadores lógicos</a>\n",
    "- <a href='#t5'>5. Tipos de datos II</a>\n",
    "     - <a href='#5.1.'>5.1. Listas</a>\n",
    "     - <a href='#5.2.'>5.2. Tuplas</a>\n",
    "     - <a href='#5.3.'>5.3. Diccionarios</a>\n",
    "- <a href='#t6'>6. Control de flujo</a>  \n",
    "     - <a href='#6.1.'>6.1. Sentencias condicionales</a>\n",
    "     - <a href='#6.2.'>6.2. Sentencias de bucle</a>\n",
    "- <a href='#t7'>7. Funciones</a>\n"
   ]
  },
  {
   "cell_type": "markdown",
   "metadata": {
    "id": "yKiOW6hvvEdw"
   },
   "source": [
    "##  <a id='t1'>1. ¿Qué es la programación?</a>"
   ]
  },
  {
   "cell_type": "markdown",
   "metadata": {
    "id": "q2Gjy8kmFhmO"
   },
   "source": [
    "- La programación implica planificar y estructurar una serie de pasos ordenados para llevar a cabo una tarea específica. Este concepto es aplicable en múltiples situaciones, como organizar una salida, unas vacaciones, o programar los horarios de emisión de programas de televisión y películas en el cine.\n",
    "\n",
    "- En el ámbito de la informática, la programación se refiere a la creación de programas o aplicaciones mediante la escritura de un código fuente. Este código consiste en un conjunto de instrucciones que el ordenador debe seguir para ejecutar un programa.\n",
    "\n",
    "- El propósito principal de la programación es establecer instrucciones para que un ordenador pueda ejecutar sistemas, programas y aplicaciones que sean eficientes, accesibles y fáciles de usar.\n",
    "\n",
    "- Los programas de software generalmente siguen algoritmos, que son conjuntos de instrucciones organizadas y relacionadas entre sí, permitiendo al software operar en equipos de computación.\n",
    "\n",
    "Fuente: [Concepto.de](https://concepto.de/programacion/#ixzz8eC6Zj08G)"
   ]
  },
  {
   "cell_type": "markdown",
   "metadata": {
    "id": "-adVSs3GFhmO"
   },
   "source": [
    "##  <a id='t1.1.'>1.1 Lenguajes de programación</a>"
   ]
  },
  {
   "cell_type": "markdown",
   "metadata": {
    "id": "zaQjAGuLFhmP"
   },
   "source": [
    "- Un lenguaje de programación es un lenguaje artificial preestablecido compuesto por signos, palabras y símbolos, que permite la comunicación entre el programador y el ordenador.\n",
    "\n",
    "- Las instrucciones para ejecutar aplicaciones y programas están escritas en un lenguaje de programación y luego se traducen a un lenguaje de máquina que el hardware del equipo puede interpretar y ejecutar.\n",
    "\n",
    "- El código fuente consiste en líneas de texto que, en lenguaje de programación, indican las acciones que debe realizar el ordenador. Este código se crea, diseña, codifica, mantiene y depura a través del proceso de programación.\n",
    "\n",
    "- Existen diversos lenguajes de programación, como Java, Perl y Python, que utilizan distintos programas para volcar las instrucciones. Estos lenguajes evolucionan y se expanden con el tiempo."
   ]
  },
  {
   "cell_type": "markdown",
   "metadata": {
    "id": "ZkpAZ-MoFhmP"
   },
   "source": [
    "##  <a id='t1.2.'>1.2 Tipos de lenguajes de programación</a>\n",
    "Los lenguajes de programación se pueden clasificar en diferentes niveles según su cercanía al lenguaje de máquina y su facilidad de uso para los programadores\n",
    "\n",
    "#### Lenguaje de Bajo Nivel o Lenguaje de Máquina\n",
    "- Es el lenguaje más básico y consiste en instrucciones directamente ejecutables por el hardware del ordenador. Está compuesto por cadenas de bits (0s y 1s).\n",
    "- Características: Muy eficiente en términos de ejecución, pero extremadamente difícil de programar y depurar.\n",
    "- Ejemplo:\n",
    "Código binario (1 y 0)\n",
    "\n",
    "#### Lenguaje ensamblador\n",
    "- Es un paso por encima del lenguaje de máquina y utiliza abreviaturas o mnemonics en lugar de números binarios.\n",
    "- Características: Combina la eficiencia y control de un lenguaje de bajo nivel con características de lenguajes de alto nivel.\n",
    "- Ejemplo:\n",
    "```MOV AX, 1``` (mueve el valor 1 al registro AX).\n",
    "\n",
    "#### Lenguaje de alto nivel\n",
    "- Estos lenguajes están diseñados para ser fáciles de leer y escribir por los humanos. Permiten expresar los algoritmos de una manera adecuada a la capacidad cognitiva humana, en lugar de la capacidad con que las máquinas lo ejecutan.\n",
    "- Características: Permiten una máxima flexibilidad al programador a la hora de abstraerse o de ser literal.\n",
    "- Ejemplo:\n",
    "\n",
    "Python: ```print(\"Hello, World!\")```\n",
    "\n",
    "Java: ```System.out.println(\"Hello, World!\");```\n",
    "\n",
    "C#: ```Console.WriteLine(\"Hello, World!\");```"
   ]
  },
  {
   "cell_type": "markdown",
   "metadata": {
    "id": "JBbd6uwOFhmP"
   },
   "source": [
    "##  <a id='t1.3.'>1.3 ¿Por qué Python?</a>\n",
    "![image.png](attachment:9f717427-3d64-49c2-ba41-a30223d68c75.png)\n",
    "Fuenta: [Statista](https://es.statista.com/grafico/16580/lenguajes-de-programacion-mas-usados-del-mundo/)"
   ]
  },
  {
   "cell_type": "markdown",
   "metadata": {
    "id": "0F_E2cv_FhmQ"
   },
   "source": [
    "![image.png](attachment:f476fc18-a819-4473-8a70-def8651f409f.png)\n",
    "Fuente: [Estado de la Ciencia de Datos en 2021, Anaconda.](https://datos.gob.es/es/blog/cuando-utilizar-cada-lenguaje-de-programacion-en-ciencia-de-datos)"
   ]
  },
  {
   "cell_type": "markdown",
   "metadata": {
    "id": "Zua0LJkjFhmQ"
   },
   "source": [
    "![image.png](attachment:7830b6a0-f08c-4597-992d-8aece4a566e3.png)!\n",
    "\n",
    "Fuente: [KD Nuggets](https://datos.gob.es/es/blog/cuando-utilizar-cada-lenguaje-de-programacion-en-ciencia-de-datos)"
   ]
  },
  {
   "cell_type": "markdown",
   "metadata": {
    "id": "RggEK7vvFhmQ"
   },
   "source": [
    "Python se destaca como un lenguaje de programación altamente versátil y ampliamente utilizado en el campo de la ciencia de datos, y hay varias razones convincentes para elegirlo sobre otros lenguajes.\n",
    "\n",
    "1. **Versatilidad y Facilidad de Uso**: Python es conocido por su sintaxis simple y legible, lo que lo hace accesible para principiantes y al mismo tiempo poderoso para usuarios avanzados. Esta versatilidad permite utilizarlo eficazmente en todas las etapas de un proyecto de ciencia de datos, desde la extracción y limpieza de datos hasta el análisis, la visualización y la implementación.\n",
    "\n",
    "2. **Extensas Bibliotecas y Frameworks**: Python tiene un ecosistema rico de bibliotecas y frameworks que soportan una amplia gama de tareas de ciencia de datos. Bibliotecas como Pandas y NumPy son esenciales para la manipulación y análisis de datos, mientras que Matplotlib y Seaborn son populares para la visualización de datos. Para el aprendizaje automático, Scikit-learn ofrece una suite completa de algoritmos, y TensorFlow y PyTorch son frameworks líderes para el aprendizaje profundo.\n",
    "\n",
    "3. **Comunidad y Soporte**: Python tiene una comunidad grande y activa, lo que significa que hay una gran cantidad de recursos, tutoriales y documentación disponibles. Este soporte comunitario ayuda a los nuevos usuarios a aprender y resolver problemas, mientras que los usuarios avanzados se benefician del desarrollo y las mejoras continuas.\n",
    "\n",
    "4. **Integración y Automatización**: La capacidad de Python para integrarse con otras tecnologías y herramientas, como SQL para la gestión de bases de datos o Apache Spark para el procesamiento de grandes volúmenes de datos, lo convierte en una herramienta versátil para los científicos de datos. Además, Python es excelente para la automatización de tareas repetitivas y flujos de trabajo en proyectos de datos.\n",
    "\n",
    "5. **Adopción en la Industria**: Python es ampliamente adoptado tanto en el ámbito académico como en la industria, lo que asegura que las habilidades aprendidas en Python sean altamente transferibles y valoradas en el mercado laboral. Es comúnmente utilizado por grandes empresas y organizaciones, lo que subraya su relevancia e importancia en el campo.\n",
    "\n",
    "Dadas estas ventajas, estudiar Python puede proporcionar una base sólida para una carrera en ciencia de datos, permitiéndote manejar una variedad de tareas de manera eficiente y efectiva.\n",
    "\n",
    "Fuentes: [datos.gob.es](https://datos.gob.es/es/blog/cuando-utilizar-cada-lenguaje-de-programacion-en-ciencia-de-datos)"
   ]
  },
  {
   "cell_type": "markdown",
   "metadata": {
    "id": "14gJr2CdvEdx"
   },
   "source": [
    "##  <a id='t2'>2. Las variables en Python</a>"
   ]
  },
  {
   "cell_type": "markdown",
   "metadata": {
    "id": "OCxez3hgvEdx"
   },
   "source": [
    "Las variables son elementos que asignamos con **un nombre** y que utilizaremos posteriormente cuando sea necesario. Estas variables pueden representar datos, texto, números, y también elementos más complejos como funciones o incluso otros programas."
   ]
  },
  {
   "cell_type": "markdown",
   "metadata": {
    "id": "cbiKj9YevEdy"
   },
   "source": [
    "Existen múltiples formas de asignar variables en Python"
   ]
  },
  {
   "cell_type": "code",
   "execution_count": null,
   "metadata": {
    "colab": {
     "base_uri": "https://localhost:8080/"
    },
    "executionInfo": {
     "elapsed": 326,
     "status": "ok",
     "timestamp": 1723509164275,
     "user": {
      "displayName": "Laboratorio de Ciencias Sociales",
      "userId": "13319980455210928079"
     },
     "user_tz": 300
    },
    "id": "cqQ8rxTPvEdy",
    "outputId": "3d45d136-b2d9-4e9f-83f8-7ac364f7ade9"
   },
   "outputs": [
    {
     "name": "stdout",
     "output_type": "stream",
     "text": [
      "Hola, ¿como estas?\n"
     ]
    }
   ],
   "source": [
    "variable_1 = \"Hola, ¿como estas?\"\n",
    "print(variable_1)"
   ]
  },
  {
   "cell_type": "code",
   "execution_count": null,
   "metadata": {
    "colab": {
     "base_uri": "https://localhost:8080/"
    },
    "executionInfo": {
     "elapsed": 90,
     "status": "ok",
     "timestamp": 1709601580454,
     "user": {
      "displayName": "Laboratorio de Ciencias Sociales",
      "userId": "13319980455210928079"
     },
     "user_tz": 300
    },
    "id": "LmcJiemIvEd0",
    "outputId": "3474ccce-737e-4019-9870-fd0765590695"
   },
   "outputs": [
    {
     "name": "stdout",
     "output_type": "stream",
     "text": [
      "43\n"
     ]
    }
   ],
   "source": [
    "variable_2 = 7 + (4 + 5) * 4\n",
    "print(variable_2)"
   ]
  },
  {
   "cell_type": "markdown",
   "metadata": {
    "id": "zYOHGM7TvEd1"
   },
   "source": [
    "Se puede reasignar el valor de una variable:"
   ]
  },
  {
   "cell_type": "code",
   "execution_count": null,
   "metadata": {
    "colab": {
     "base_uri": "https://localhost:8080/"
    },
    "executionInfo": {
     "elapsed": 87,
     "status": "ok",
     "timestamp": 1709601580455,
     "user": {
      "displayName": "Laboratorio de Ciencias Sociales",
      "userId": "13319980455210928079"
     },
     "user_tz": 300
    },
    "id": "UGCOKlM8vEd1",
    "outputId": "f65b3177-b904-4999-cbe9-4bd5bf9e1ba5"
   },
   "outputs": [
    {
     "name": "stdout",
     "output_type": "stream",
     "text": [
      "Nuevo valor\n"
     ]
    }
   ],
   "source": [
    "variable_1 = \"Nuevo valor\"\n",
    "print(variable_1)"
   ]
  },
  {
   "cell_type": "markdown",
   "metadata": {
    "id": "aRWpMbVCvEd2"
   },
   "source": [
    "No se puede llamar a una variable no definida"
   ]
  },
  {
   "cell_type": "code",
   "execution_count": null,
   "metadata": {
    "id": "SjPyfROvvEd2"
   },
   "outputs": [],
   "source": [
    "#print(variable_3)"
   ]
  },
  {
   "cell_type": "markdown",
   "metadata": {
    "id": "P87nyKsrvEd3"
   },
   "source": [
    "Todas las variables de python son de algún (y único) tipo. De los ejemplos anteriores tenemos:"
   ]
  },
  {
   "cell_type": "code",
   "execution_count": null,
   "metadata": {
    "colab": {
     "base_uri": "https://localhost:8080/"
    },
    "executionInfo": {
     "elapsed": 81,
     "status": "ok",
     "timestamp": 1709601580456,
     "user": {
      "displayName": "Laboratorio de Ciencias Sociales",
      "userId": "13319980455210928079"
     },
     "user_tz": 300
    },
    "id": "nw46hAVgvEd3",
    "outputId": "70ab022b-7f08-4819-e82d-311d2473cedb"
   },
   "outputs": [
    {
     "data": {
      "text/plain": [
       "str"
      ]
     },
     "execution_count": 9,
     "metadata": {},
     "output_type": "execute_result"
    }
   ],
   "source": [
    "type(variable_1)"
   ]
  },
  {
   "cell_type": "code",
   "execution_count": null,
   "metadata": {
    "colab": {
     "base_uri": "https://localhost:8080/"
    },
    "executionInfo": {
     "elapsed": 79,
     "status": "ok",
     "timestamp": 1709601580456,
     "user": {
      "displayName": "Laboratorio de Ciencias Sociales",
      "userId": "13319980455210928079"
     },
     "user_tz": 300
    },
    "id": "muaPZjqmvEd4",
    "outputId": "6a984fd7-782f-4c59-ee04-8e8c47ba312b"
   },
   "outputs": [
    {
     "data": {
      "text/plain": [
       "int"
      ]
     },
     "execution_count": 10,
     "metadata": {},
     "output_type": "execute_result"
    }
   ],
   "source": [
    "type(variable_2)"
   ]
  },
  {
   "cell_type": "markdown",
   "metadata": {
    "id": "YEo3hJPYvEd4"
   },
   "source": [
    "Los tipos de datos son:  \n",
    "\n",
    "\n",
    "\n",
    "\n",
    "| Tipo              | Nombre                                                  |\n",
    "|------------------------|-------------------------------------------------------|\n",
    "| Texto                   | str                                        |\n",
    "| Números       | integers(int), floats(float), complejos(complex) |\n",
    "| Secuencias                 | listas(list) ,tuplas (tuple), rango(range)                             |\n",
    "| Diccionario | diccionarios (dict)                                  |\n",
    "| Conjuntos                  | conjuntos(set), frozenset                                          |\n",
    "| Booleans                   | bool                                        |\n",
    "| Binarios                   | bytes, bytearray, memoryview                                        |\n"
   ]
  },
  {
   "cell_type": "markdown",
   "metadata": {
    "id": "T9Bff9iFFhmS"
   },
   "source": [
    "##  <a id='#t2.1.'>2.1 Asignación de variables en Python</a>"
   ]
  },
  {
   "cell_type": "markdown",
   "metadata": {
    "id": "aKpp0p9nFhmS"
   },
   "source": [
    "### Asignación simple"
   ]
  },
  {
   "cell_type": "code",
   "execution_count": null,
   "metadata": {
    "id": "9S7XSyD9FhmT"
   },
   "outputs": [
    {
     "name": "stdout",
     "output_type": "stream",
     "text": [
      "10 Hello oree\n"
     ]
    }
   ],
   "source": [
    "x = 10\n",
    "y = \"Hello\"\n",
    "z = [1, 2, 3]"
   ]
  },
  {
   "cell_type": "markdown",
   "metadata": {
    "id": "2pebzkOlFhmT"
   },
   "source": [
    "### Asignación múltiple"
   ]
  },
  {
   "cell_type": "code",
   "execution_count": null,
   "metadata": {
    "id": "Tzssgr5zFhmT"
   },
   "outputs": [
    {
     "name": "stdout",
     "output_type": "stream",
     "text": [
      "3 2 3\n"
     ]
    }
   ],
   "source": [
    "a, b, c = 1, 2, 3\n",
    "nombre, edad = \"Alice\", 30\n",
    "\n"
   ]
  },
  {
   "cell_type": "markdown",
   "metadata": {
    "id": "MInQ5q9VFhmT"
   },
   "source": [
    "### Asignación de la misma variable a múltiples valores"
   ]
  },
  {
   "cell_type": "code",
   "execution_count": null,
   "metadata": {
    "id": "-b0Qws5yFhmT"
   },
   "outputs": [],
   "source": [
    "x = y = z = 0"
   ]
  },
  {
   "cell_type": "markdown",
   "metadata": {
    "id": "3xC_yrH4FhmT"
   },
   "source": [
    "### Asignación con operadores compuestos"
   ]
  },
  {
   "cell_type": "code",
   "execution_count": null,
   "metadata": {
    "id": "L-SNMPr5FhmT"
   },
   "outputs": [],
   "source": [
    "x = 5\n",
    "x += 3  # equivalente a x = x + 3\n",
    "x -= 2  # equivalente a x = x - 2\n",
    "x *= 4  # equivalente a x = x * 4\n",
    "x /= 2  # equivalente a x = x / 2"
   ]
  },
  {
   "cell_type": "markdown",
   "metadata": {
    "id": "xlpLAOdHvEd5"
   },
   "source": [
    "##  <a id='#t2.2.'>2.2 Reglas para nombrar variables</a>"
   ]
  },
  {
   "cell_type": "markdown",
   "metadata": {
    "id": "NaF5NmgLvEd5"
   },
   "source": [
    "Reglas para nombrar variables : https://aprendepython.es/core/datatypes/data/"
   ]
  },
  {
   "cell_type": "code",
   "execution_count": null,
   "metadata": {
    "id": "2zb1He1MvEd6"
   },
   "outputs": [
    {
     "ename": "SyntaxError",
     "evalue": "cannot assign to expression here. Maybe you meant '==' instead of '='? (2055762677.py, line 2)",
     "output_type": "error",
     "traceback": [
      "\u001b[1;36m  Cell \u001b[1;32mIn[8], line 2\u001b[1;36m\u001b[0m\n\u001b[1;33m    mi-variable = 3\u001b[0m\n\u001b[1;37m    ^\u001b[0m\n\u001b[1;31mSyntaxError\u001b[0m\u001b[1;31m:\u001b[0m cannot assign to expression here. Maybe you meant '==' instead of '='?\n"
     ]
    }
   ],
   "source": [
    "# No se puede utilizar \"-\"\n",
    "#mi-variable = 3"
   ]
  },
  {
   "cell_type": "code",
   "execution_count": null,
   "metadata": {
    "id": "-4mlgcrZvEd7"
   },
   "outputs": [],
   "source": [
    "# Tampoco se puede utilizar simbolos como \"#\" o \"@\" para los nombres\n",
    "#_@_variable = 3"
   ]
  },
  {
   "cell_type": "code",
   "execution_count": null,
   "metadata": {
    "colab": {
     "base_uri": "https://localhost:8080/"
    },
    "executionInfo": {
     "elapsed": 76,
     "status": "ok",
     "timestamp": 1709601580457,
     "user": {
      "displayName": "Laboratorio de Ciencias Sociales",
      "userId": "13319980455210928079"
     },
     "user_tz": 300
    },
    "id": "ArmCoM1FvEd6",
    "outputId": "24863062-5436-4f10-b3ec-710ae643cbdd"
   },
   "outputs": [
    {
     "name": "stdout",
     "output_type": "stream",
     "text": [
      "3\n"
     ]
    }
   ],
   "source": [
    "# Si es posible utilizar \"_\"\n",
    "_mivariable = 3\n",
    "print(_mivariable)"
   ]
  },
  {
   "cell_type": "code",
   "execution_count": null,
   "metadata": {
    "id": "k5mBUOmgvEd7"
   },
   "outputs": [],
   "source": [
    "# También es posible utilizar MAYÚSCULAS\n",
    "MIVARIABLE = 3"
   ]
  },
  {
   "cell_type": "code",
   "execution_count": null,
   "metadata": {
    "id": "JjsMQ_oV8VCA"
   },
   "outputs": [],
   "source": [
    "# También es posible utilizar intercalado\n",
    "MiVarIaBlE = 3"
   ]
  },
  {
   "cell_type": "markdown",
   "metadata": {
    "id": "IByBmJJU0ro_"
   },
   "source": [
    "Convención en Python: *minusculas_con_guion_bajo* (snake case)"
   ]
  },
  {
   "cell_type": "markdown",
   "metadata": {
    "id": "sVprDlSavEd7"
   },
   "source": [
    "IMPORTANTE: No podemos utilizar las siguientes palabras clave para nombrar variables\n",
    "\n",
    "|  |  |  |  |\n",
    "|-------------------|-------------------|-------------------|-------------------|\n",
    "| False             | class             | from              | or                |\n",
    "| None              | continue          | global            | pass              |\n",
    "| True              | def               | if                | raise             |\n",
    "| and               | del               | import            | return            |\n",
    "| as                | elif              | in                | try               |\n",
    "| assert            | else              | is                | while             |\n",
    "| async             | except            | lambda            | with              |\n",
    "| await             | finally           | nonlocal          | yield             |\n",
    "| break             | for               | not               |                   |\n"
   ]
  },
  {
   "cell_type": "code",
   "execution_count": null,
   "metadata": {
    "colab": {
     "base_uri": "https://localhost:8080/"
    },
    "executionInfo": {
     "elapsed": 70,
     "status": "ok",
     "timestamp": 1709601580458,
     "user": {
      "displayName": "Laboratorio de Ciencias Sociales",
      "userId": "13319980455210928079"
     },
     "user_tz": 300
    },
    "id": "-GYIv4gwsjyF",
    "outputId": "656de06d-c79e-429c-da77-aca10700c587"
   },
   "outputs": [
    {
     "name": "stdout",
     "output_type": "stream",
     "text": [
      "['False', 'None', 'True', 'and', 'as', 'assert', 'async', 'await', 'break', 'class', 'continue', 'def', 'del', 'elif', 'else', 'except', 'finally', 'for', 'from', 'global', 'if', 'import', 'in', 'is', 'lambda', 'nonlocal', 'not', 'or', 'pass', 'raise', 'return', 'try', 'while', 'with', 'yield']\n"
     ]
    }
   ],
   "source": [
    "import keyword\n",
    "print(keyword.kwlist)"
   ]
  },
  {
   "cell_type": "code",
   "execution_count": null,
   "metadata": {
    "colab": {
     "base_uri": "https://localhost:8080/"
    },
    "executionInfo": {
     "elapsed": 68,
     "status": "ok",
     "timestamp": 1709601580458,
     "user": {
      "displayName": "Laboratorio de Ciencias Sociales",
      "userId": "13319980455210928079"
     },
     "user_tz": 300
    },
    "id": "Ew2gQItvxZNP",
    "outputId": "8220a186-9023-42d2-fbc4-9e375aa15466"
   },
   "outputs": [
    {
     "data": {
      "text/plain": [
       "['ArithmeticError',\n",
       " 'AssertionError',\n",
       " 'AttributeError',\n",
       " 'BaseException',\n",
       " 'BaseExceptionGroup',\n",
       " 'BlockingIOError',\n",
       " 'BrokenPipeError',\n",
       " 'BufferError',\n",
       " 'BytesWarning',\n",
       " 'ChildProcessError',\n",
       " 'ConnectionAbortedError',\n",
       " 'ConnectionError',\n",
       " 'ConnectionRefusedError',\n",
       " 'ConnectionResetError',\n",
       " 'DeprecationWarning',\n",
       " 'EOFError',\n",
       " 'Ellipsis',\n",
       " 'EncodingWarning',\n",
       " 'EnvironmentError',\n",
       " 'Exception',\n",
       " 'ExceptionGroup',\n",
       " 'False',\n",
       " 'FileExistsError',\n",
       " 'FileNotFoundError',\n",
       " 'FloatingPointError',\n",
       " 'FutureWarning',\n",
       " 'GeneratorExit',\n",
       " 'IOError',\n",
       " 'ImportError',\n",
       " 'ImportWarning',\n",
       " 'IndentationError',\n",
       " 'IndexError',\n",
       " 'InterruptedError',\n",
       " 'IsADirectoryError',\n",
       " 'KeyError',\n",
       " 'KeyboardInterrupt',\n",
       " 'LookupError',\n",
       " 'MemoryError',\n",
       " 'ModuleNotFoundError',\n",
       " 'NameError',\n",
       " 'None',\n",
       " 'NotADirectoryError',\n",
       " 'NotImplemented',\n",
       " 'NotImplementedError',\n",
       " 'OSError',\n",
       " 'OverflowError',\n",
       " 'PendingDeprecationWarning',\n",
       " 'PermissionError',\n",
       " 'ProcessLookupError',\n",
       " 'RecursionError',\n",
       " 'ReferenceError',\n",
       " 'ResourceWarning',\n",
       " 'RuntimeError',\n",
       " 'RuntimeWarning',\n",
       " 'StopAsyncIteration',\n",
       " 'StopIteration',\n",
       " 'SyntaxError',\n",
       " 'SyntaxWarning',\n",
       " 'SystemError',\n",
       " 'SystemExit',\n",
       " 'TabError',\n",
       " 'TimeoutError',\n",
       " 'True',\n",
       " 'TypeError',\n",
       " 'UnboundLocalError',\n",
       " 'UnicodeDecodeError',\n",
       " 'UnicodeEncodeError',\n",
       " 'UnicodeError',\n",
       " 'UnicodeTranslateError',\n",
       " 'UnicodeWarning',\n",
       " 'UserWarning',\n",
       " 'ValueError',\n",
       " 'Warning',\n",
       " 'WindowsError',\n",
       " 'ZeroDivisionError',\n",
       " '__IPYTHON__',\n",
       " '__build_class__',\n",
       " '__debug__',\n",
       " '__doc__',\n",
       " '__import__',\n",
       " '__loader__',\n",
       " '__name__',\n",
       " '__package__',\n",
       " '__spec__',\n",
       " 'abs',\n",
       " 'aiter',\n",
       " 'all',\n",
       " 'anext',\n",
       " 'any',\n",
       " 'ascii',\n",
       " 'bin',\n",
       " 'bool',\n",
       " 'breakpoint',\n",
       " 'bytearray',\n",
       " 'bytes',\n",
       " 'callable',\n",
       " 'chr',\n",
       " 'classmethod',\n",
       " 'compile',\n",
       " 'complex',\n",
       " 'copyright',\n",
       " 'credits',\n",
       " 'delattr',\n",
       " 'dict',\n",
       " 'dir',\n",
       " 'display',\n",
       " 'divmod',\n",
       " 'enumerate',\n",
       " 'eval',\n",
       " 'exec',\n",
       " 'execfile',\n",
       " 'filter',\n",
       " 'float',\n",
       " 'format',\n",
       " 'frozenset',\n",
       " 'get_ipython',\n",
       " 'getattr',\n",
       " 'globals',\n",
       " 'hasattr',\n",
       " 'hash',\n",
       " 'help',\n",
       " 'hex',\n",
       " 'id',\n",
       " 'input',\n",
       " 'int',\n",
       " 'isinstance',\n",
       " 'issubclass',\n",
       " 'iter',\n",
       " 'len',\n",
       " 'license',\n",
       " 'list',\n",
       " 'locals',\n",
       " 'map',\n",
       " 'max',\n",
       " 'memoryview',\n",
       " 'min',\n",
       " 'next',\n",
       " 'object',\n",
       " 'oct',\n",
       " 'open',\n",
       " 'ord',\n",
       " 'pow',\n",
       " 'print',\n",
       " 'property',\n",
       " 'range',\n",
       " 'repr',\n",
       " 'reversed',\n",
       " 'round',\n",
       " 'runfile',\n",
       " 'set',\n",
       " 'setattr',\n",
       " 'slice',\n",
       " 'sorted',\n",
       " 'staticmethod',\n",
       " 'str',\n",
       " 'sum',\n",
       " 'super',\n",
       " 'tuple',\n",
       " 'type',\n",
       " 'vars',\n",
       " 'zip']"
      ]
     },
     "execution_count": 21,
     "metadata": {},
     "output_type": "execute_result"
    }
   ],
   "source": [
    "import builtins\n",
    "dir (builtins)"
   ]
  },
  {
   "cell_type": "code",
   "execution_count": null,
   "metadata": {
    "id": "KkDiuimsvEd8"
   },
   "outputs": [],
   "source": [
    "# Obtendremos el error SyntaxError: cannot assign to False\n",
    " # False = 3"
   ]
  },
  {
   "cell_type": "markdown",
   "metadata": {
    "id": "DTmDI4LsvEd8"
   },
   "source": [
    "No se puede utilizar `<-` como en RStudio para nombrar variables"
   ]
  },
  {
   "cell_type": "code",
   "execution_count": null,
   "metadata": {
    "id": "x2UJu9gUvEd9"
   },
   "outputs": [
    {
     "name": "stdout",
     "output_type": "stream",
     "text": [
      "csdasda\n"
     ]
    }
   ],
   "source": [
    "# mivariable <- 3\n"
   ]
  },
  {
   "cell_type": "markdown",
   "metadata": {
    "id": "a0DesVB-0GB6"
   },
   "source": [
    "Se debe tener cuidado con las mayúsculas y minúsculas"
   ]
  },
  {
   "cell_type": "code",
   "execution_count": null,
   "metadata": {
    "id": "2dyl3Qri0LFy"
   },
   "outputs": [],
   "source": [
    "ab = 12\n",
    "AB = 24\n",
    "Ab = 36\n",
    "aB = 45"
   ]
  },
  {
   "cell_type": "markdown",
   "metadata": {
    "id": "QUvzPq_0vEd9"
   },
   "source": [
    "##  <a id='t3'>3. Tipos de datos I</a>\n",
    "\n",
    "Más información: https://docs.python.org/es/3/library/stdtypes.html"
   ]
  },
  {
   "cell_type": "markdown",
   "metadata": {
    "id": "PlZ-GlTivEd9"
   },
   "source": [
    "### 3.1. <a id='3.1.'>Strings</a>"
   ]
  },
  {
   "cell_type": "markdown",
   "metadata": {
    "id": "SJH9XFLovEd-"
   },
   "source": [
    "Se trata de datos que almacenan texto, y que se delimitan mediante comillas."
   ]
  },
  {
   "cell_type": "code",
   "execution_count": null,
   "metadata": {
    "id": "VLpqtIAqvEd-",
    "outputId": "b084c6f8-2403-4722-de3a-03cb7c7f78c9"
   },
   "outputs": [
    {
     "name": "stdout",
     "output_type": "stream",
     "text": [
      "Primer texto de mi trabajo\n"
     ]
    }
   ],
   "source": [
    "texto_1 = \"Primer texto de mi trabajo\"\n",
    "print(texto_1)"
   ]
  },
  {
   "cell_type": "markdown",
   "metadata": {
    "id": "V8DRBrgXvEd-"
   },
   "source": [
    "Las comillas pueden ser simples (' ') o dobles (\" \")"
   ]
  },
  {
   "cell_type": "code",
   "execution_count": null,
   "metadata": {
    "colab": {
     "base_uri": "https://localhost:8080/"
    },
    "executionInfo": {
     "elapsed": 13,
     "status": "ok",
     "timestamp": 1709601900607,
     "user": {
      "displayName": "Laboratorio de Ciencias Sociales",
      "userId": "13319980455210928079"
     },
     "user_tz": 300
    },
    "id": "Pmr7czcwvEd_",
    "outputId": "74c1ed3d-f798-4bd0-fc10-11605cb477a4"
   },
   "outputs": [
    {
     "name": "stdout",
     "output_type": "stream",
     "text": [
      "Segundo texto\n"
     ]
    }
   ],
   "source": [
    "texto_2 = 'Segundo texto'\n",
    "print(texto_2)"
   ]
  },
  {
   "cell_type": "markdown",
   "metadata": {
    "id": "9vlnsZ97vEeA"
   },
   "source": [
    "Las cadenas de texto se pueden concatenar"
   ]
  },
  {
   "cell_type": "code",
   "execution_count": null,
   "metadata": {
    "id": "EXivawfEvEeA",
    "outputId": "0e683870-8c63-47b3-fdbc-1332a7323feb"
   },
   "outputs": [
    {
     "name": "stdout",
     "output_type": "stream",
     "text": [
      "C:\\Users\\dell\\Documents\\GitHub\\taller-python-cienciadedatos\n"
     ]
    }
   ],
   "source": [
    "str_1 = r\"C:\\Users\\dell\\Documents\\GitHub\"\n",
    "str_2 = r\"\\taller-python-cienciadedatos\"\n",
    "path  = str_1 + str_2\n",
    "print(path)"
   ]
  },
  {
   "cell_type": "code",
   "execution_count": null,
   "metadata": {
    "id": "g0fg_LIWLTWp",
    "outputId": "6303f9e2-a579-4dc3-aeb3-eb337ab656ca"
   },
   "outputs": [
    {
     "name": "stdout",
     "output_type": "stream",
     "text": [
      "C:\\Users\\dell\\Documents\\GitHub\n"
     ]
    }
   ],
   "source": [
    "print(str_1)"
   ]
  },
  {
   "cell_type": "markdown",
   "metadata": {
    "id": "0sumUBCMy7W8"
   },
   "source": [
    "Textos con salto de linea (''' ''')"
   ]
  },
  {
   "cell_type": "code",
   "execution_count": null,
   "metadata": {
    "id": "_S7Ghzp2y6DB",
    "outputId": "875238dc-796a-4589-dacd-b8ea8190d2af"
   },
   "outputs": [
    {
     "name": "stdout",
     "output_type": "stream",
     "text": [
      " Hay golpes en la vida, tan fuertes... Yo no sé!\t\t\n",
      "Golpes como del odio de Dios; como si ante ellos,\t\t\n",
      "la resaca de todo lo sufrido\t\t\n",
      "se empozara en el alma... Yo no sé! \n"
     ]
    }
   ],
   "source": [
    "heraldos_negros = ''' Hay golpes en la vida, tan fuertes... Yo no sé!\n",
    "Golpes como del odio de Dios; como si ante ellos,\n",
    "la resaca de todo lo sufrido\n",
    "se empozara en el alma... Yo no sé! '''\n",
    "print (heraldos_negros)"
   ]
  },
  {
   "cell_type": "code",
   "execution_count": null,
   "metadata": {
    "colab": {
     "base_uri": "https://localhost:8080/"
    },
    "executionInfo": {
     "elapsed": 419,
     "status": "ok",
     "timestamp": 1709601629229,
     "user": {
      "displayName": "Laboratorio de Ciencias Sociales",
      "userId": "13319980455210928079"
     },
     "user_tz": 300
    },
    "id": "Zdjy805qzmhL",
    "outputId": "57a3243a-2afc-419a-bad4-11a5dbeff420"
   },
   "outputs": [
    {
     "name": "stdout",
     "output_type": "stream",
     "text": [
      "En un lugar de la Mancha, \n",
      "de cuyo nombre no quiero acordarme, \n",
      "no ha mucho tiempo que vivía un hidalgo \n",
      "de los de lanza en astillero\n"
     ]
    }
   ],
   "source": [
    "don_quijote = \"\"\"En un lugar de la Mancha,\n",
    "de cuyo nombre no quiero acordarme,\n",
    "no ha mucho tiempo que vivía un hidalgo\n",
    "de los de lanza en astillero\"\"\"\n",
    "print (don_quijote)"
   ]
  },
  {
   "cell_type": "markdown",
   "metadata": {
    "id": "s8qrV9EmvEeB"
   },
   "source": [
    "### 3.2. <a id='3.2.'>Intergers y floats</a>"
   ]
  },
  {
   "cell_type": "markdown",
   "metadata": {
    "id": "Xy8cBdESvEeC",
    "vscode": {
     "languageId": "plaintext"
    }
   },
   "source": [
    "Los **intergers** son datos numéricos enteros."
   ]
  },
  {
   "cell_type": "code",
   "execution_count": null,
   "metadata": {
    "colab": {
     "base_uri": "https://localhost:8080/"
    },
    "executionInfo": {
     "elapsed": 323,
     "status": "ok",
     "timestamp": 1709601615617,
     "user": {
      "displayName": "Laboratorio de Ciencias Sociales",
      "userId": "13319980455210928079"
     },
     "user_tz": 300
    },
    "id": "kJJ6--MHvEeC",
    "outputId": "d2d22072-c487-4a87-a28b-cb22ba68e66a"
   },
   "outputs": [
    {
     "name": "stdout",
     "output_type": "stream",
     "text": [
      "3\n"
     ]
    }
   ],
   "source": [
    "int_1 = 3\n",
    "print(3)"
   ]
  },
  {
   "cell_type": "code",
   "execution_count": null,
   "metadata": {
    "colab": {
     "base_uri": "https://localhost:8080/"
    },
    "executionInfo": {
     "elapsed": 432,
     "status": "ok",
     "timestamp": 1709601618647,
     "user": {
      "displayName": "Laboratorio de Ciencias Sociales",
      "userId": "13319980455210928079"
     },
     "user_tz": 300
    },
    "id": "-gefciODL85-",
    "outputId": "5c64a33a-235c-4289-c5d8-746584623d46"
   },
   "outputs": [
    {
     "name": "stdout",
     "output_type": "stream",
     "text": [
      "0.8181818181818182\n"
     ]
    },
    {
     "data": {
      "text/plain": [
       "float"
      ]
     },
     "execution_count": 18,
     "metadata": {},
     "output_type": "execute_result"
    }
   ],
   "source": [
    "int_1 = 5\n",
    "type(int_1)"
   ]
  },
  {
   "cell_type": "code",
   "execution_count": null,
   "metadata": {
    "colab": {
     "base_uri": "https://localhost:8080/"
    },
    "executionInfo": {
     "elapsed": 319,
     "status": "ok",
     "timestamp": 1709601634032,
     "user": {
      "displayName": "Laboratorio de Ciencias Sociales",
      "userId": "13319980455210928079"
     },
     "user_tz": 300
    },
    "id": "ex77wsw6vEeE",
    "outputId": "ea8b3bcd-4d0b-4754-e29e-264504bd90dc"
   },
   "outputs": [
    {
     "data": {
      "text/plain": [
       "str"
      ]
     },
     "execution_count": 33,
     "metadata": {},
     "output_type": "execute_result"
    }
   ],
   "source": [
    "type(don_quijote)"
   ]
  },
  {
   "cell_type": "markdown",
   "metadata": {
    "id": "jSj-lLNyvEeE",
    "vscode": {
     "languageId": "plaintext"
    }
   },
   "source": [
    "Los **floats** son datos numéricos con decimales."
   ]
  },
  {
   "cell_type": "code",
   "execution_count": null,
   "metadata": {
    "colab": {
     "base_uri": "https://localhost:8080/"
    },
    "executionInfo": {
     "elapsed": 333,
     "status": "ok",
     "timestamp": 1709601683867,
     "user": {
      "displayName": "Laboratorio de Ciencias Sociales",
      "userId": "13319980455210928079"
     },
     "user_tz": 300
    },
    "id": "McaIZw-OvEeF",
    "outputId": "9ebccd6f-baf2-4a79-8f8f-45b2de67d378"
   },
   "outputs": [
    {
     "name": "stdout",
     "output_type": "stream",
     "text": [
      "3.3333333333333335\n"
     ]
    }
   ],
   "source": [
    "float_1 = 10/3\n",
    "print(float_1)"
   ]
  },
  {
   "cell_type": "code",
   "execution_count": null,
   "metadata": {
    "colab": {
     "base_uri": "https://localhost:8080/"
    },
    "executionInfo": {
     "elapsed": 541,
     "status": "ok",
     "timestamp": 1709601687499,
     "user": {
      "displayName": "Laboratorio de Ciencias Sociales",
      "userId": "13319980455210928079"
     },
     "user_tz": 300
    },
    "id": "IuWLrrkOvEeF",
    "outputId": "81f3e542-456e-4d6b-df35-49571455e7c6"
   },
   "outputs": [
    {
     "data": {
      "text/plain": [
       "float"
      ]
     },
     "execution_count": 35,
     "metadata": {},
     "output_type": "execute_result"
    }
   ],
   "source": [
    "type(float_1)"
   ]
  },
  {
   "cell_type": "code",
   "execution_count": null,
   "metadata": {
    "id": "rpWi_hsuFhmi",
    "outputId": "6c9061ad-da99-4467-973a-06c9d5ecc3ed"
   },
   "outputs": [
    {
     "name": "stdout",
     "output_type": "stream",
     "text": [
      "El valor de 'entero' es 5 y su tipo es <class 'int'>\n",
      "El valor de 'flotante' es 5.0 y su tipo es <class 'float'>\n"
     ]
    }
   ],
   "source": [
    "# Entero (integer)\n",
    "entero = 5\n",
    "print(f\"El valor de 'entero' es {entero} y su tipo es {type(entero)}\")\n",
    "\n",
    "# Punto flotante (float)\n",
    "flotante = 5.0\n",
    "print(f\"El valor de 'flotante' es {flotante} y su tipo es {type(flotante)}\")"
   ]
  },
  {
   "cell_type": "code",
   "execution_count": null,
   "metadata": {
    "id": "4IKF3fseFhmi",
    "outputId": "161c9ca3-2913-46c9-f40b-9597481da4e0"
   },
   "outputs": [
    {
     "name": "stdout",
     "output_type": "stream",
     "text": [
      "La suma de enteros es 8 y su tipo es <class 'int'>\n",
      "La suma de floats es 8.0 y su tipo es <class 'float'>\n",
      "La suma de entero y flotante es 10.0 y su tipo es <class 'float'>\n"
     ]
    }
   ],
   "source": [
    "# Operaciones con integer\n",
    "suma_enteros = entero + 3\n",
    "print(f\"La suma de enteros es {suma_enteros} y su tipo es {type(suma_enteros)}\")\n",
    "\n",
    "# Operaciones con floats\n",
    "suma_flotantes = flotante + 3.0\n",
    "print(f\"La suma de floats es {suma_flotantes} y su tipo es {type(suma_flotantes)}\")\n",
    "\n",
    "# Suma de integer y floats\n",
    "mezcla = entero + flotante\n",
    "print(f\"La suma de entero y flotante es {mezcla} y su tipo es {type(mezcla)}\")"
   ]
  },
  {
   "cell_type": "markdown",
   "metadata": {
    "id": "jdccvyfZvEeG"
   },
   "source": [
    "### 3.3. <a id='3.3.'>Booleans</a>"
   ]
  },
  {
   "cell_type": "markdown",
   "metadata": {
    "id": "S2pOADVcvEeG"
   },
   "source": [
    "Los **Booleans** son variables que indican Verdadero (True) o Falso (False).\n",
    "> Por ejemplo, la expresión 1 < 2 es Verdadero, y la expresión 0 == 1 es falsa. Se utilizan en comparaciones o equivalencias.\n",
    "\n"
   ]
  },
  {
   "cell_type": "code",
   "execution_count": null,
   "metadata": {
    "colab": {
     "base_uri": "https://localhost:8080/"
    },
    "executionInfo": {
     "elapsed": 15,
     "status": "ok",
     "timestamp": 1709601773421,
     "user": {
      "displayName": "Laboratorio de Ciencias Sociales",
      "userId": "13319980455210928079"
     },
     "user_tz": 300
    },
    "id": "PVlAOEDfvEeH",
    "outputId": "2862e133-0be9-4d80-e1bd-5a41e16cd0df"
   },
   "outputs": [
    {
     "name": "stdout",
     "output_type": "stream",
     "text": [
      "True\n"
     ]
    }
   ],
   "source": [
    "print(1 < 2)"
   ]
  },
  {
   "cell_type": "code",
   "execution_count": null,
   "metadata": {
    "colab": {
     "base_uri": "https://localhost:8080/"
    },
    "executionInfo": {
     "elapsed": 354,
     "status": "ok",
     "timestamp": 1709601843526,
     "user": {
      "displayName": "Laboratorio de Ciencias Sociales",
      "userId": "13319980455210928079"
     },
     "user_tz": 300
    },
    "id": "F68GrasmvEeH",
    "outputId": "9ae7fa69-e084-4a5e-81dc-bd6ba202b4b4"
   },
   "outputs": [
    {
     "name": "stdout",
     "output_type": "stream",
     "text": [
      "False\n"
     ]
    }
   ],
   "source": [
    "print(0 == 1)"
   ]
  },
  {
   "cell_type": "markdown",
   "metadata": {
    "id": "hUEwhU-5vEeI"
   },
   "source": [
    "Los booleans se evalúan como 1 (True) y 0 (False), por ello:"
   ]
  },
  {
   "cell_type": "code",
   "execution_count": null,
   "metadata": {
    "colab": {
     "base_uri": "https://localhost:8080/"
    },
    "executionInfo": {
     "elapsed": 298,
     "status": "ok",
     "timestamp": 1709601873126,
     "user": {
      "displayName": "Laboratorio de Ciencias Sociales",
      "userId": "13319980455210928079"
     },
     "user_tz": 300
    },
    "id": "g73OABK-vEeI",
    "outputId": "59fff95c-f18b-4ba5-8ef7-950c57ef33de"
   },
   "outputs": [
    {
     "name": "stdout",
     "output_type": "stream",
     "text": [
      "1\n"
     ]
    }
   ],
   "source": [
    "print(False + True)"
   ]
  },
  {
   "cell_type": "code",
   "execution_count": null,
   "metadata": {
    "colab": {
     "base_uri": "https://localhost:8080/"
    },
    "executionInfo": {
     "elapsed": 306,
     "status": "ok",
     "timestamp": 1709601879598,
     "user": {
      "displayName": "Laboratorio de Ciencias Sociales",
      "userId": "13319980455210928079"
     },
     "user_tz": 300
    },
    "id": "u6qAnR4CvEeJ",
    "outputId": "9e61221f-33cd-4b05-b116-b0a45244dfdb"
   },
   "outputs": [
    {
     "data": {
      "text/plain": [
       "True"
      ]
     },
     "execution_count": 41,
     "metadata": {},
     "output_type": "execute_result"
    }
   ],
   "source": [
    "True > False"
   ]
  },
  {
   "cell_type": "code",
   "execution_count": null,
   "metadata": {
    "id": "SL_pjoT9NzpF",
    "outputId": "c4cab74d-6e2f-47b2-82b4-ad6021f6ba8c"
   },
   "outputs": [
    {
     "name": "stdout",
     "output_type": "stream",
     "text": [
      "Segundo texto\n"
     ]
    }
   ],
   "source": [
    "texto_2 = 'Segundo texto'\n",
    "print(texto_2)"
   ]
  },
  {
   "cell_type": "code",
   "execution_count": null,
   "metadata": {
    "colab": {
     "base_uri": "https://localhost:8080/"
    },
    "executionInfo": {
     "elapsed": 4,
     "status": "ok",
     "timestamp": 1709601956989,
     "user": {
      "displayName": "Laboratorio de Ciencias Sociales",
      "userId": "13319980455210928079"
     },
     "user_tz": 300
    },
    "id": "EcIpmFl1vEeJ",
    "outputId": "5b79ea00-a7b7-4569-f1da-867ee18b390e"
   },
   "outputs": [
    {
     "data": {
      "text/plain": [
       "False"
      ]
     },
     "execution_count": 43,
     "metadata": {},
     "output_type": "execute_result"
    }
   ],
   "source": [
    "texto_2 is int"
   ]
  },
  {
   "cell_type": "code",
   "execution_count": null,
   "metadata": {
    "colab": {
     "base_uri": "https://localhost:8080/"
    },
    "executionInfo": {
     "elapsed": 3,
     "status": "ok",
     "timestamp": 1709601971764,
     "user": {
      "displayName": "Laboratorio de Ciencias Sociales",
      "userId": "13319980455210928079"
     },
     "user_tz": 300
    },
    "id": "BfYOYFVhvEeK",
    "outputId": "e4dd0e2f-2906-4c4e-9b6e-8e813f918dc4"
   },
   "outputs": [
    {
     "data": {
      "text/plain": [
       "True"
      ]
     },
     "execution_count": 44,
     "metadata": {},
     "output_type": "execute_result"
    }
   ],
   "source": [
    "texto_2 is not str"
   ]
  },
  {
   "cell_type": "code",
   "execution_count": null,
   "metadata": {
    "colab": {
     "base_uri": "https://localhost:8080/"
    },
    "executionInfo": {
     "elapsed": 309,
     "status": "ok",
     "timestamp": 1709601977343,
     "user": {
      "displayName": "Laboratorio de Ciencias Sociales",
      "userId": "13319980455210928079"
     },
     "user_tz": 300
    },
    "id": "xk6gbdip858z",
    "outputId": "73c2242f-2555-4929-d428-a79b28738c51"
   },
   "outputs": [
    {
     "data": {
      "text/plain": [
       "False"
      ]
     },
     "execution_count": 45,
     "metadata": {},
     "output_type": "execute_result"
    }
   ],
   "source": [
    "texto_2 is float"
   ]
  }
 ],
 "metadata": {
  "colab": {
   "provenance": []
  },
  "kernelspec": {
   "display_name": "Python 3 (ipykernel)",
   "language": "python",
   "name": "python3"
  },
  "language_info": {
   "codemirror_mode": {
    "name": "ipython",
    "version": 3
   },
   "file_extension": ".py",
   "mimetype": "text/x-python",
   "name": "python",
   "nbconvert_exporter": "python",
   "pygments_lexer": "ipython3",
   "version": "3.11.5"
  }
 },
 "nbformat": 4,
 "nbformat_minor": 1
}
