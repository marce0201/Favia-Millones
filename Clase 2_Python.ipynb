{
 "cells": [
  {
   "cell_type": "markdown",
   "metadata": {
    "id": "m0os2if7vEdp"
   },
   "source": [
    "# **TALLER INTRODUCTORIO A PYTHON**\n",
    "\n",
    "# Sesión 2 - \"Operadores y Estructuras en Python\"\n",
    "Este taller introductorio está dirigido a estudiantes de la Economía y Finanzas de la Facultad de Ciencias Sociales y aborda los fundamentos para el desarrollo de habilidades de programación con Python. El objetivo es otorgar los conocimientos fundamentales al estudiante sobre la estructuración del contenido, las mecánicas de funcionamiento y las capacidades de Python como herramienta para la investigación cuantitativa en la ciencia de datos.\n",
    "\n",
    "#### Fecha:\n",
    "11 de marzo\n",
    "#### Duración:\n",
    "10:00 am -12:00 pm\n",
    "#### Instructores:\n",
    "Daniel Flores (a20200238@pucp.edu.pe)"
   ]
  },
  {
   "cell_type": "markdown",
   "metadata": {
    "id": "cIy0b9nQvEdt"
   },
   "source": [
    "## **Índice**"
   ]
  },
  {
   "cell_type": "markdown",
   "metadata": {
    "id": "QNjex7obvEdu"
   },
   "source": [
    "- <a href='#t4'>4. Operadores</a>\n",
    "     - <a href='#4.1.'>4.1. Operadores aritméticos</a>\n",
    "     - <a href='#4.2.'>4.2. Operadores de comparación</a>\n",
    "     - <a href='#4.3.'>4.3. Operadores lógicos</a>\n",
    "- <a href='#t5'>5. Tipos de datos II</a>\n",
    "     - <a href='#5.1.'>5.1. Listas</a>\n",
    "     - <a href='#5.2.'>5.2. Tuplas</a>\n",
    "     - <a href='#5.3.'>5.3. Diccionarios</a>\n",
    "- <a href='#t6'>6. Control de flujo</a>  \n",
    "     - <a href='#6.1.'>6.1. Sentencias condicionales</a>\n",
    "     - <a href='#6.2.'>6.2. Sentencias de bucle</a>\n",
    "- <a href='#t7'>7. Funciones</a>\n"
   ]
  },
  {
   "cell_type": "markdown",
   "metadata": {
    "id": "Gpv6cKzPvEeL"
   },
   "source": [
    "##  <a id='t4'>4. OPERADORES</a>"
   ]
  },
  {
   "cell_type": "markdown",
   "metadata": {
    "id": "kx1cpEF-vEeL"
   },
   "source": [
    "### 4.1. <a id='4.1.'>Operadores aritméticos</a>"
   ]
  },
  {
   "cell_type": "markdown",
   "metadata": {
    "id": "pS_QMIqXvEeM"
   },
   "source": [
    "| Operador | Nombre             | Ejemplo | Resultado |\n",
    "|----------|--------------------|---------|-----------|\n",
    "| `+`      | Suma               | `5+3`   |  `8`      |\n",
    "| `-`      | Resta              | `8-1`   |  `7`      |\n",
    "| `*`      | Multiplicación     | `2*3`   |  `6`      |\n",
    "| `/`      | División           | `8*2`   |  `4`      |\n",
    "| `%`      | Módulo (residuo)   | `9*2`   |  `1`      |\n",
    "| `**`     | Exponenciación     | `2**2`  |  `4`      |\n",
    "| `//`     | División de piso   | `13**2` |  `6`      |"
   ]
  },
  {
   "cell_type": "code",
   "execution_count": 4,
   "metadata": {
    "colab": {
     "base_uri": "https://localhost:8080/"
    },
    "executionInfo": {
     "elapsed": 306,
     "status": "ok",
     "timestamp": 1709602103650,
     "user": {
      "displayName": "Laboratorio de Ciencias Sociales",
      "userId": "13319980455210928079"
     },
     "user_tz": 300
    },
    "id": "QOV62OuJvEeN",
    "outputId": "210a683a-9607-4204-9979-1796eed3c6d8"
   },
   "outputs": [
    {
     "name": "stdout",
     "output_type": "stream",
     "text": [
      "37\n"
     ]
    }
   ],
   "source": [
    "# Suma\n",
    "a = 12 + 15 + 10\n",
    "print(a)\n"
   ]
  },
  {
   "cell_type": "code",
   "execution_count": null,
   "metadata": {
    "colab": {
     "base_uri": "https://localhost:8080/"
    },
    "executionInfo": {
     "elapsed": 350,
     "status": "ok",
     "timestamp": 1709602107528,
     "user": {
      "displayName": "Laboratorio de Ciencias Sociales",
      "userId": "13319980455210928079"
     },
     "user_tz": 300
    },
    "id": "gw79F8U3vEeP",
    "outputId": "cb0a9c8e-c5f7-4de3-aa4d-b938d9ef96f7"
   },
   "outputs": [
    {
     "name": "stdout",
     "output_type": "stream",
     "text": [
      "12\n"
     ]
    }
   ],
   "source": [
    "# Resta\n",
    "b = 15 - 3\n",
    "print(b)"
   ]
  },
  {
   "cell_type": "code",
   "execution_count": null,
   "metadata": {
    "colab": {
     "base_uri": "https://localhost:8080/"
    },
    "executionInfo": {
     "elapsed": 5,
     "status": "ok",
     "timestamp": 1709602194996,
     "user": {
      "displayName": "Laboratorio de Ciencias Sociales",
      "userId": "13319980455210928079"
     },
     "user_tz": 300
    },
    "id": "1S_JoOhoyPa-",
    "outputId": "98684bb4-09ea-4ee0-a866-b880e17dff42"
   },
   "outputs": [
    {
     "name": "stdout",
     "output_type": "stream",
     "text": [
      "4.666666666666667\n"
     ]
    }
   ],
   "source": [
    "# División\n",
    "c = 14/3\n",
    "print(c)"
   ]
  },
  {
   "cell_type": "code",
   "execution_count": null,
   "metadata": {
    "colab": {
     "base_uri": "https://localhost:8080/"
    },
    "executionInfo": {
     "elapsed": 4,
     "status": "ok",
     "timestamp": 1709602160168,
     "user": {
      "displayName": "Laboratorio de Ciencias Sociales",
      "userId": "13319980455210928079"
     },
     "user_tz": 300
    },
    "id": "N4z2RHxbvEeP",
    "outputId": "dff75a1d-45d3-4c8a-98fb-e319e39014aa"
   },
   "outputs": [
    {
     "name": "stdout",
     "output_type": "stream",
     "text": [
      "4\n"
     ]
    }
   ],
   "source": [
    "# División de piso (trunca el resultado)\n",
    "d = 14//3\n",
    "print(d)"
   ]
  },
  {
   "cell_type": "code",
   "execution_count": null,
   "metadata": {
    "colab": {
     "base_uri": "https://localhost:8080/"
    },
    "executionInfo": {
     "elapsed": 465,
     "status": "ok",
     "timestamp": 1709602232831,
     "user": {
      "displayName": "Laboratorio de Ciencias Sociales",
      "userId": "13319980455210928079"
     },
     "user_tz": 300
    },
    "id": "ncvRQbNsv7ik",
    "outputId": "51d23617-74fa-4194-8180-40b7962d813d"
   },
   "outputs": [
    {
     "name": "stdout",
     "output_type": "stream",
     "text": [
      "1\n"
     ]
    }
   ],
   "source": [
    "# Residuo\n",
    "f = 16 % 3\n",
    "print(f)\n"
   ]
  },
  {
   "cell_type": "code",
   "execution_count": null,
   "metadata": {
    "colab": {
     "base_uri": "https://localhost:8080/"
    },
    "executionInfo": {
     "elapsed": 302,
     "status": "ok",
     "timestamp": 1709602277050,
     "user": {
      "displayName": "Laboratorio de Ciencias Sociales",
      "userId": "13319980455210928079"
     },
     "user_tz": 300
    },
    "id": "WwRSyAsZvEeO",
    "outputId": "457489ec-a119-4665-dff8-e0ab941e70ba"
   },
   "outputs": [
    {
     "name": "stdout",
     "output_type": "stream",
     "text": [
      "8\n"
     ]
    }
   ],
   "source": [
    "# Exponenciación\n",
    "e = 2**3\n",
    "print(e)"
   ]
  },
  {
   "cell_type": "code",
   "execution_count": null,
   "metadata": {
    "colab": {
     "base_uri": "https://localhost:8080/"
    },
    "executionInfo": {
     "elapsed": 322,
     "status": "ok",
     "timestamp": 1709602291983,
     "user": {
      "displayName": "Laboratorio de Ciencias Sociales",
      "userId": "13319980455210928079"
     },
     "user_tz": 300
    },
    "id": "kJhDP3ubvEeQ",
    "outputId": "bacca52f-ba3f-42df-ec90-fe31afae4e7c"
   },
   "outputs": [
    {
     "name": "stdout",
     "output_type": "stream",
     "text": [
      "10.194444444444445\n"
     ]
    }
   ],
   "source": [
    "# Combinación de operaciones aritméticas\n",
    "g = (11 + 5)//2 + 7 / 6 **2 + 250 % 8\n",
    "print(g)"
   ]
  },
  {
   "cell_type": "markdown",
   "metadata": {
    "id": "00M3tYcvvEeR"
   },
   "source": [
    "### 4.2. <a id='4.2.'>Operadores de comparación</a>"
   ]
  },
  {
   "cell_type": "markdown",
   "metadata": {
    "id": "w7_wDV4UvEeS"
   },
   "source": [
    "Los siguientes operadores realizan comparaciones entre valores/variables. Cuando se comparan estos valores, el resultado es True o False."
   ]
  },
  {
   "cell_type": "markdown",
   "metadata": {
    "id": "9Y7zhfZnvEeS"
   },
   "source": [
    "| Operador | Nombre             | Ejemplo    | Resultado |\n",
    "|----------|--------------------|------------|-----------|\n",
    "| `>`      | Mayor que          | `23 > 43`  |  `True`   |\n",
    "| `<`      | Menor que          | `10 < 5`   |  `False`  |\n",
    "| `>=`     | Mayor o igual que  | `11 >= 11` |  `True`   |\n",
    "| `<=`     | Menor o igual que  | `8 <= 2`   |  `False`  |\n",
    "| `==`     | Igual a            | `14 == 13` |  `False`  |\n",
    "| `!=`     | No igual a         | `3 != 2`   |  `True`   |"
   ]
  },
  {
   "cell_type": "code",
   "execution_count": null,
   "metadata": {
    "colab": {
     "base_uri": "https://localhost:8080/"
    },
    "executionInfo": {
     "elapsed": 3,
     "status": "ok",
     "timestamp": 1709602411691,
     "user": {
      "displayName": "Laboratorio de Ciencias Sociales",
      "userId": "13319980455210928079"
     },
     "user_tz": 300
    },
    "id": "h4W5XLTJvEeT",
    "outputId": "d5b537c9-b687-4917-e466-446ebb675f44"
   },
   "outputs": [
    {
     "data": {
      "text/plain": [
       "False"
      ]
     },
     "execution_count": 31,
     "metadata": {},
     "output_type": "execute_result"
    }
   ],
   "source": [
    "# Igual a\n",
    "32 == 23"
   ]
  },
  {
   "cell_type": "code",
   "execution_count": null,
   "metadata": {
    "colab": {
     "base_uri": "https://localhost:8080/"
    },
    "executionInfo": {
     "elapsed": 3,
     "status": "ok",
     "timestamp": 1709602414841,
     "user": {
      "displayName": "Laboratorio de Ciencias Sociales",
      "userId": "13319980455210928079"
     },
     "user_tz": 300
    },
    "id": "TC8EzjakvEeU",
    "outputId": "765ba284-1f9b-48d6-ac0f-a89cc681ccac"
   },
   "outputs": [
    {
     "data": {
      "text/plain": [
       "True"
      ]
     },
     "execution_count": 32,
     "metadata": {},
     "output_type": "execute_result"
    }
   ],
   "source": [
    "# Menor que\n",
    "14 < 15"
   ]
  },
  {
   "cell_type": "code",
   "execution_count": null,
   "metadata": {
    "colab": {
     "base_uri": "https://localhost:8080/"
    },
    "executionInfo": {
     "elapsed": 338,
     "status": "ok",
     "timestamp": 1709602419122,
     "user": {
      "displayName": "Laboratorio de Ciencias Sociales",
      "userId": "13319980455210928079"
     },
     "user_tz": 300
    },
    "id": "UpDVLubXvEeV",
    "outputId": "cd5ee6b1-9996-40d1-b923-a920cd955681"
   },
   "outputs": [
    {
     "data": {
      "text/plain": [
       "False"
      ]
     },
     "execution_count": 33,
     "metadata": {},
     "output_type": "execute_result"
    }
   ],
   "source": [
    "# Mayor o igual que\n",
    "10 <= 7"
   ]
  },
  {
   "cell_type": "code",
   "execution_count": null,
   "metadata": {
    "colab": {
     "base_uri": "https://localhost:8080/"
    },
    "executionInfo": {
     "elapsed": 279,
     "status": "ok",
     "timestamp": 1709602443750,
     "user": {
      "displayName": "Laboratorio de Ciencias Sociales",
      "userId": "13319980455210928079"
     },
     "user_tz": 300
    },
    "id": "KOH-zmQovEeW",
    "outputId": "758f0f39-2e51-452b-ccb7-a1ec9c0866bd"
   },
   "outputs": [
    {
     "data": {
      "text/plain": [
       "False"
      ]
     },
     "execution_count": 34,
     "metadata": {},
     "output_type": "execute_result"
    }
   ],
   "source": [
    "# Los operadores aritméticos y de comparación se pueden combinar\n",
    "5 * 3//2 > 3 ** 2 - 1"
   ]
  },
  {
   "cell_type": "code",
   "execution_count": null,
   "metadata": {
    "colab": {
     "base_uri": "https://localhost:8080/"
    },
    "executionInfo": {
     "elapsed": 5,
     "status": "ok",
     "timestamp": 1709602458328,
     "user": {
      "displayName": "Laboratorio de Ciencias Sociales",
      "userId": "13319980455210928079"
     },
     "user_tz": 300
    },
    "id": "b-dBPg3qvEeW",
    "outputId": "e7a8c80c-98e0-4440-9d1a-08c9bf495276"
   },
   "outputs": [
    {
     "data": {
      "text/plain": [
       "False"
      ]
     },
     "execution_count": 35,
     "metadata": {},
     "output_type": "execute_result"
    }
   ],
   "source": [
    "h = 5 * 3//2\n",
    "j = 3 ** 2 - 1\n",
    "h > j"
   ]
  },
  {
   "cell_type": "markdown",
   "metadata": {
    "id": "o0exHYTVvEeX"
   },
   "source": [
    "### 4.3. <a id='4.3.'>Operadores lógicos</a>"
   ]
  },
  {
   "cell_type": "markdown",
   "metadata": {
    "id": "HGiQehDfvEeY"
   },
   "source": [
    "Se trata de operadores lógicos de respuesta booleana"
   ]
  },
  {
   "cell_type": "markdown",
   "metadata": {
    "id": "QcIlL2YvvEeY"
   },
   "source": [
    "| Operador | Equivalente        | Ejemplo                    | Resultado |\n",
    "|----------|--------------------|----------------------------|-----------|\n",
    "| `and`    | y                  | `(3 > 2) and (8 > 5)`      |  `True`   |\n",
    "| `or`     | o                  | `(10 > 2) or (10 < 9)`    |  `True`  |\n",
    "| `not`    | no                 | `not (9 > 11)`             |  `True`   |"
   ]
  },
  {
   "cell_type": "code",
   "execution_count": null,
   "metadata": {
    "colab": {
     "base_uri": "https://localhost:8080/"
    },
    "executionInfo": {
     "elapsed": 381,
     "status": "ok",
     "timestamp": 1709602570076,
     "user": {
      "displayName": "Laboratorio de Ciencias Sociales",
      "userId": "13319980455210928079"
     },
     "user_tz": 300
    },
    "id": "-cqrtBjevEeZ",
    "outputId": "bc7cf332-2075-4b42-db62-e54fa392f298"
   },
   "outputs": [
    {
     "data": {
      "text/plain": [
       "True"
      ]
     },
     "execution_count": 36,
     "metadata": {},
     "output_type": "execute_result"
    }
   ],
   "source": [
    "# And\n",
    "(5 > 1) and (6 > 2)"
   ]
  },
  {
   "cell_type": "code",
   "execution_count": null,
   "metadata": {
    "colab": {
     "base_uri": "https://localhost:8080/"
    },
    "executionInfo": {
     "elapsed": 310,
     "status": "ok",
     "timestamp": 1709602573854,
     "user": {
      "displayName": "Laboratorio de Ciencias Sociales",
      "userId": "13319980455210928079"
     },
     "user_tz": 300
    },
    "id": "eA6nv5eFvEeZ",
    "outputId": "08b6be70-f1bf-4140-f391-0e7c5fb21321"
   },
   "outputs": [
    {
     "data": {
      "text/plain": [
       "True"
      ]
     },
     "execution_count": 37,
     "metadata": {},
     "output_type": "execute_result"
    }
   ],
   "source": [
    "# Not\n",
    "not (8 < 6)"
   ]
  },
  {
   "cell_type": "code",
   "execution_count": null,
   "metadata": {
    "colab": {
     "base_uri": "https://localhost:8080/"
    },
    "executionInfo": {
     "elapsed": 309,
     "status": "ok",
     "timestamp": 1709602779495,
     "user": {
      "displayName": "Laboratorio de Ciencias Sociales",
      "userId": "13319980455210928079"
     },
     "user_tz": 300
    },
    "id": "-VbWAvLTQ-Ir",
    "outputId": "5bbf68c7-50fa-413c-92f1-41ecb1bd924b"
   },
   "outputs": [
    {
     "data": {
      "text/plain": [
       "True"
      ]
     },
     "execution_count": 38,
     "metadata": {},
     "output_type": "execute_result"
    }
   ],
   "source": [
    "not (9 > 11)"
   ]
  },
  {
   "cell_type": "code",
   "execution_count": null,
   "metadata": {
    "colab": {
     "base_uri": "https://localhost:8080/"
    },
    "executionInfo": {
     "elapsed": 5,
     "status": "ok",
     "timestamp": 1709602769801,
     "user": {
      "displayName": "Laboratorio de Ciencias Sociales",
      "userId": "13319980455210928079"
     },
     "user_tz": 300
    },
    "id": "cQc7d7HLQ_FB",
    "outputId": "a159acab-25bb-4761-ac64-d952ed96f38d"
   },
   "outputs": [
    {
     "data": {
      "text/plain": [
       "False"
      ]
     },
     "execution_count": 39,
     "metadata": {},
     "output_type": "execute_result"
    }
   ],
   "source": [
    "(9 > 11)"
   ]
  },
  {
   "cell_type": "code",
   "execution_count": null,
   "metadata": {
    "colab": {
     "base_uri": "https://localhost:8080/"
    },
    "executionInfo": {
     "elapsed": 337,
     "status": "ok",
     "timestamp": 1709602591361,
     "user": {
      "displayName": "Laboratorio de Ciencias Sociales",
      "userId": "13319980455210928079"
     },
     "user_tz": 300
    },
    "id": "xESEFd7qynPo",
    "outputId": "425dbba7-d4e2-4138-d091-11935e45d742"
   },
   "outputs": [
    {
     "data": {
      "text/plain": [
       "True"
      ]
     },
     "execution_count": 40,
     "metadata": {},
     "output_type": "execute_result"
    }
   ],
   "source": [
    "# Or\n",
    "(3 > 1) or (5 < 1)"
   ]
  },
  {
   "cell_type": "code",
   "execution_count": null,
   "metadata": {
    "colab": {
     "base_uri": "https://localhost:8080/"
    },
    "executionInfo": {
     "elapsed": 3,
     "status": "ok",
     "timestamp": 1709602625143,
     "user": {
      "displayName": "Laboratorio de Ciencias Sociales",
      "userId": "13319980455210928079"
     },
     "user_tz": 300
    },
    "id": "lBt7gx6WQZwM",
    "outputId": "8f24ebd6-f652-40fc-8912-4a7537b204bf"
   },
   "outputs": [
    {
     "data": {
      "text/plain": [
       "True"
      ]
     },
     "execution_count": 41,
     "metadata": {},
     "output_type": "execute_result"
    }
   ],
   "source": [
    "(5 < 1) or (3 > 1)"
   ]
  },
  {
   "cell_type": "code",
   "execution_count": null,
   "metadata": {
    "colab": {
     "base_uri": "https://localhost:8080/"
    },
    "executionInfo": {
     "elapsed": 304,
     "status": "ok",
     "timestamp": 1709602655785,
     "user": {
      "displayName": "Laboratorio de Ciencias Sociales",
      "userId": "13319980455210928079"
     },
     "user_tz": 300
    },
    "id": "YGO-ZHFKytdk",
    "outputId": "4c306171-aeb7-4742-afb8-e50c6e1a8f6e"
   },
   "outputs": [
    {
     "data": {
      "text/plain": [
       "True"
      ]
     },
     "execution_count": 42,
     "metadata": {},
     "output_type": "execute_result"
    }
   ],
   "source": [
    "# Más ejemplos\n",
    "(not (7 < 2)) and ((8 > 1) or (8 < 1))"
   ]
  },
  {
   "cell_type": "code",
   "execution_count": null,
   "metadata": {
    "colab": {
     "base_uri": "https://localhost:8080/"
    },
    "executionInfo": {
     "elapsed": 321,
     "status": "ok",
     "timestamp": 1709602662000,
     "user": {
      "displayName": "Laboratorio de Ciencias Sociales",
      "userId": "13319980455210928079"
     },
     "user_tz": 300
    },
    "id": "AXLSvZY7ytbR",
    "outputId": "fcfad410-302d-4b57-cad7-85035fdfb443"
   },
   "outputs": [
    {
     "data": {
      "text/plain": [
       "False"
      ]
     },
     "execution_count": 43,
     "metadata": {},
     "output_type": "execute_result"
    }
   ],
   "source": [
    "# ¿Alguien puede decir que saldría?\n",
    "(not (7 > 2)) or ((8 > 1) and (8 < 1))"
   ]
  },
  {
   "cell_type": "markdown",
   "metadata": {
    "id": "x93ytDQuvEea"
   },
   "source": [
    "##  <a id='t5'>5. Tipos de datos II</a>"
   ]
  },
  {
   "cell_type": "markdown",
   "metadata": {
    "id": "4NjAi4n0vEea"
   },
   "source": [
    "### 5.1. <a id='5.1.'>Listas</a>"
   ]
  },
  {
   "cell_type": "markdown",
   "metadata": {
    "id": "znVcS_g-vEeb"
   },
   "source": [
    "Hasta ahora los tipos de datos que hemos estudiado tienen un solo elemento. Las listas **permiten almacenar y trabajar varios datos al mismo como una lista ordenada de valores**. Las listas se crean utilizando **corchetes []** y pueden contener elementos de diferentes tipos de datos, como números, cadenas de texto, booleanos. Son  colecciones ordenadas de items.\n",
    "\n",
    "Cabe recordar:\n",
    "* Se puede cambiar los items de la lista.\n",
    "* La longitud de la lista de puede obtener con la funcion <b>len()</b>\n",
    "* El primer item es el **indice 0**."
   ]
  },
  {
   "cell_type": "code",
   "execution_count": 5,
   "metadata": {
    "colab": {
     "base_uri": "https://localhost:8080/"
    },
    "executionInfo": {
     "elapsed": 6,
     "status": "ok",
     "timestamp": 1723596288437,
     "user": {
      "displayName": "MICHAEL OMAR ENCALADA CALDERON",
      "userId": "13612596738603780546"
     },
     "user_tz": 300
    },
    "id": "UQqDrt6pvEeb",
    "outputId": "dd60c8fd-6eb3-4332-db0b-9025b33b710b"
   },
   "outputs": [
    {
     "name": "stdout",
     "output_type": "stream",
     "text": [
      "['Sociología', 'Economía', 'Antropologia', 'Finanzas', 'Ciencia Política y Gobierno']\n"
     ]
    }
   ],
   "source": [
    "lista_1 = [2,5,3,1,7]\n",
    "lista_2 = [\"Sociología\", \"Economía\", \"Antropologia\", \"Finanzas\", \"Ciencia Política y Gobierno\"]\n",
    "print(lista_2)"
   ]
  },
  {
   "cell_type": "markdown",
   "metadata": {
    "id": "h9e1sCvnvEec"
   },
   "source": [
    "Las listas pueden contener elementos de diferentes tipos"
   ]
  },
  {
   "cell_type": "code",
   "execution_count": null,
   "metadata": {
    "colab": {
     "base_uri": "https://localhost:8080/"
    },
    "executionInfo": {
     "elapsed": 5,
     "status": "ok",
     "timestamp": 1709604032784,
     "user": {
      "displayName": "Laboratorio de Ciencias Sociales",
      "userId": "13319980455210928079"
     },
     "user_tz": 300
    },
    "id": "hqPaDsWavEec",
    "outputId": "adbf9943-4515-4d5b-c638-1810f6c4465b"
   },
   "outputs": [
    {
     "name": "stdout",
     "output_type": "stream",
     "text": [
      "[5, 'hola', 50.55, False, 'bitte']\n"
     ]
    }
   ],
   "source": [
    "lista_3 = [5, 'hola', 50.55, False, \"bitte\"]\n",
    "print(lista_3)"
   ]
  },
  {
   "cell_type": "markdown",
   "metadata": {
    "id": "hpheYTM5vEed"
   },
   "source": [
    "Las listas pueden concatenarse mediante el operador de suma"
   ]
  },
  {
   "cell_type": "code",
   "execution_count": null,
   "metadata": {
    "colab": {
     "base_uri": "https://localhost:8080/"
    },
    "executionInfo": {
     "elapsed": 4,
     "status": "ok",
     "timestamp": 1709604051097,
     "user": {
      "displayName": "Laboratorio de Ciencias Sociales",
      "userId": "13319980455210928079"
     },
     "user_tz": 300
    },
    "id": "bE-cHjz4vEed",
    "outputId": "3f9fc8f5-5bd9-4f7f-e421-471c630d3bc6"
   },
   "outputs": [
    {
     "name": "stdout",
     "output_type": "stream",
     "text": [
      "[2, 5, 3, 1, 7, 'Sociología', 'Economía', 'Antropologia', 'Finanzas', 'Ciencia Política']\n"
     ]
    }
   ],
   "source": [
    "lista_4 = lista_1 + lista_2\n",
    "print(lista_4)"
   ]
  },
  {
   "cell_type": "markdown",
   "metadata": {
    "id": "rwFfHcOEvEee"
   },
   "source": [
    "**Métodos** para listas"
   ]
  },
  {
   "cell_type": "markdown",
   "metadata": {
    "id": "qHOrRKlzvEee"
   },
   "source": [
    "| Método                                 | Operacion realizada                                              |\n",
    "|----------------------------------------|------------------------------------------------------------------|\n",
    "| `lista_2.copy()`                       | Hacer un duplicado de la lista                                   |\n",
    "| `lista_1.sort()`                       | Ordenar una lista                                                |\n",
    "| `lista_1.append(elemento_a)`           | Añadir el `elemento_a` a la `lista_1`                            |\n",
    "| `lista_1[n]`                           | Acceder al elemento en el orden `n` situado en la   `lista_1`    |"
   ]
  },
  {
   "cell_type": "code",
   "execution_count": 6,
   "metadata": {
    "colab": {
     "base_uri": "https://localhost:8080/"
    },
    "executionInfo": {
     "elapsed": 5,
     "status": "ok",
     "timestamp": 1709604219838,
     "user": {
      "displayName": "Laboratorio de Ciencias Sociales",
      "userId": "13319980455210928079"
     },
     "user_tz": 300
    },
    "id": "fceVQ_AfvEef",
    "outputId": "4aaea0cc-0938-49ac-c45e-8971d7f897de"
   },
   "outputs": [
    {
     "name": "stdout",
     "output_type": "stream",
     "text": [
      "[2, 5, 3, 1, 7]\n"
     ]
    }
   ],
   "source": [
    "# Copy\n",
    "lista_5 = lista_1.copy()\n",
    "print(lista_5)"
   ]
  },
  {
   "cell_type": "code",
   "execution_count": 7,
   "metadata": {
    "colab": {
     "base_uri": "https://localhost:8080/"
    },
    "executionInfo": {
     "elapsed": 365,
     "status": "ok",
     "timestamp": 1723596337196,
     "user": {
      "displayName": "MICHAEL OMAR ENCALADA CALDERON",
      "userId": "13612596738603780546"
     },
     "user_tz": 300
    },
    "id": "lUVNYy5EWFh1",
    "outputId": "105ac9ca-ee89-4512-eca7-e01837f5e9fa"
   },
   "outputs": [
    {
     "name": "stdout",
     "output_type": "stream",
     "text": [
      "[1, 2, 3, 5, 7]\n"
     ]
    }
   ],
   "source": [
    "# Sort (ordenar)\n",
    "\n",
    "lista_1.sort()\n",
    "print(lista_1)"
   ]
  },
  {
   "cell_type": "code",
   "execution_count": 8,
   "metadata": {
    "colab": {
     "base_uri": "https://localhost:8080/"
    },
    "executionInfo": {
     "elapsed": 430,
     "status": "ok",
     "timestamp": 1709604278579,
     "user": {
      "displayName": "Laboratorio de Ciencias Sociales",
      "userId": "13319980455210928079"
     },
     "user_tz": 300
    },
    "id": "x4gXQ-wZWrBr",
    "outputId": "edc6c4b5-7d04-4e69-9ba8-429edec8d956"
   },
   "outputs": [
    {
     "name": "stdout",
     "output_type": "stream",
     "text": [
      "[1, 2, 3, 5, 7]\n"
     ]
    }
   ],
   "source": [
    "print(lista_1)"
   ]
  },
  {
   "cell_type": "code",
   "execution_count": 9,
   "metadata": {
    "colab": {
     "base_uri": "https://localhost:8080/",
     "height": 176
    },
    "executionInfo": {
     "elapsed": 346,
     "status": "error",
     "timestamp": 1723597041254,
     "user": {
      "displayName": "MICHAEL OMAR ENCALADA CALDERON",
      "userId": "13612596738603780546"
     },
     "user_tz": 300
    },
    "id": "LPXk8BV2vEef",
    "outputId": "e0b8bded-a430-4874-baef-2b981211de31"
   },
   "outputs": [
    {
     "name": "stdout",
     "output_type": "stream",
     "text": [
      "[1, 2, 3, 5, 7, 10]\n"
     ]
    }
   ],
   "source": [
    "# Append\n",
    "lista_1.append(10)\n",
    "print(lista_1)"
   ]
  },
  {
   "cell_type": "code",
   "execution_count": null,
   "metadata": {
    "colab": {
     "base_uri": "https://localhost:8080/"
    },
    "executionInfo": {
     "elapsed": 5,
     "status": "ok",
     "timestamp": 1709604839629,
     "user": {
      "displayName": "Laboratorio de Ciencias Sociales",
      "userId": "13319980455210928079"
     },
     "user_tz": 300
    },
    "id": "QqhoovUsYdZX",
    "outputId": "839d1f27-e3cb-414a-f46b-ca5eac3a3442"
   },
   "outputs": [
    {
     "name": "stdout",
     "output_type": "stream",
     "text": [
      "[2, 5, 1, 7, 10]\n"
     ]
    }
   ],
   "source": [
    "#Quitar elementos\n",
    "lista_1.remove(3)\n",
    "print(lista_1)"
   ]
  },
  {
   "cell_type": "code",
   "execution_count": null,
   "metadata": {
    "colab": {
     "base_uri": "https://localhost:8080/"
    },
    "executionInfo": {
     "elapsed": 310,
     "status": "ok",
     "timestamp": 1709604337889,
     "user": {
      "displayName": "Laboratorio de Ciencias Sociales",
      "userId": "13319980455210928079"
     },
     "user_tz": 300
    },
    "id": "ulocRaIuvEeg",
    "outputId": "74d11bf3-0f1d-406d-e99e-31f1eccd48d4"
   },
   "outputs": [
    {
     "data": {
      "text/plain": [
       "10"
      ]
     },
     "execution_count": 52,
     "metadata": {},
     "output_type": "execute_result"
    }
   ],
   "source": [
    "# Acceder mediante el índice\n",
    "lista_1[4]"
   ]
  },
  {
   "cell_type": "markdown",
   "metadata": {
    "id": "sZ0LvtJtvEeh"
   },
   "source": [
    "Métodos para obtener información de **listas numéricas**"
   ]
  },
  {
   "cell_type": "markdown",
   "metadata": {
    "id": "BNVXw5taJ7pi"
   },
   "source": [
    "\"Mientras que en Python todos los métodos son funciones, no todas las funciones son métodos. Hay una diferencia clave entre funciones y métodos en Python. Las **funciones** toman objetos como entradas. En cambio, los **métodos** actúan sobre los objetos.\"\n",
    "\n",
    "Ejemplo:\n",
    "- funcion()\n",
    "- objeto.metodo()"
   ]
  },
  {
   "cell_type": "markdown",
   "metadata": {
    "id": "GgX5AQL1vEeh"
   },
   "source": [
    "| Método                   | Operacion realizada                                              |\n",
    "|--------------------------|------------------------------------------------------------------|\n",
    "| `sum(lista)`             | Sumar todos los elementos de la lista                            |\n",
    "| `min(lista)`             | Obtener el valor minimo de entre todos los elementos de la lista |\n",
    "| `len(lista)`             | Obtener el número de elementos de la lista                       |\n",
    "| `sum(lista)\\len(lista)`  | Obtener el valor promedio de una lista                           |"
   ]
  },
  {
   "cell_type": "code",
   "execution_count": null,
   "metadata": {
    "colab": {
     "base_uri": "https://localhost:8080/"
    },
    "executionInfo": {
     "elapsed": 5,
     "status": "ok",
     "timestamp": 1709604421755,
     "user": {
      "displayName": "Laboratorio de Ciencias Sociales",
      "userId": "13319980455210928079"
     },
     "user_tz": 300
    },
    "id": "jdoPAxeqXQcI",
    "outputId": "35a09e84-d5d6-4a55-eaa9-96bf1e31c06c"
   },
   "outputs": [
    {
     "data": {
      "text/plain": [
       "25"
      ]
     },
     "execution_count": 53,
     "metadata": {},
     "output_type": "execute_result"
    }
   ],
   "source": [
    "sum(lista_1)"
   ]
  },
  {
   "cell_type": "code",
   "execution_count": null,
   "metadata": {
    "colab": {
     "base_uri": "https://localhost:8080/"
    },
    "executionInfo": {
     "elapsed": 3,
     "status": "ok",
     "timestamp": 1709604452136,
     "user": {
      "displayName": "Laboratorio de Ciencias Sociales",
      "userId": "13319980455210928079"
     },
     "user_tz": 300
    },
    "id": "81YDn9k4XZEM",
    "outputId": "30be725e-5a71-4054-d164-774f6bc2a4e6"
   },
   "outputs": [
    {
     "data": {
      "text/plain": [
       "1"
      ]
     },
     "execution_count": 54,
     "metadata": {},
     "output_type": "execute_result"
    }
   ],
   "source": [
    "min(lista_1)"
   ]
  },
  {
   "cell_type": "code",
   "execution_count": null,
   "metadata": {
    "colab": {
     "base_uri": "https://localhost:8080/"
    },
    "executionInfo": {
     "elapsed": 3,
     "status": "ok",
     "timestamp": 1709604475402,
     "user": {
      "displayName": "Laboratorio de Ciencias Sociales",
      "userId": "13319980455210928079"
     },
     "user_tz": 300
    },
    "id": "tjf7zzN0XeCZ",
    "outputId": "a32e1a55-191c-4624-8bb7-3eba82d09540"
   },
   "outputs": [
    {
     "data": {
      "text/plain": [
       "10"
      ]
     },
     "execution_count": 55,
     "metadata": {},
     "output_type": "execute_result"
    }
   ],
   "source": [
    "max(lista_1)"
   ]
  },
  {
   "cell_type": "code",
   "execution_count": null,
   "metadata": {
    "colab": {
     "base_uri": "https://localhost:8080/"
    },
    "executionInfo": {
     "elapsed": 365,
     "status": "ok",
     "timestamp": 1709604512143,
     "user": {
      "displayName": "Laboratorio de Ciencias Sociales",
      "userId": "13319980455210928079"
     },
     "user_tz": 300
    },
    "id": "AUsjsBVGXni0",
    "outputId": "7353c08a-18df-4179-b454-f39b13d156fb"
   },
   "outputs": [
    {
     "data": {
      "text/plain": [
       "5"
      ]
     },
     "execution_count": 51,
     "metadata": {},
     "output_type": "execute_result"
    }
   ],
   "source": [
    "#Numero de elementos\n",
    "len(lista_1)"
   ]
  },
  {
   "cell_type": "code",
   "execution_count": null,
   "metadata": {
    "id": "DD_XWCwxWsZE"
   },
   "outputs": [],
   "source": [
    "# promedio\n",
    "sum(lista_1)/len(lista_1)"
   ]
  },
  {
   "cell_type": "markdown",
   "metadata": {
    "id": "y10PN3ezvEei"
   },
   "source": [
    "### 5.2. <a id='5.2.'>Tuplas</a>"
   ]
  },
  {
   "cell_type": "markdown",
   "metadata": {
    "id": "FlGbfT1VvEei"
   },
   "source": [
    "Son colecciones de elementos ordenados que se utilizan para almacenar datos de  manera **inmutable** . Esto significa que una vez definida una tupla, no se puede modificar sus elementos individuales ni agregar nuevos elementos a la tupla. Las tuplas se crean utilizando **paréntesis ()** y pueden componerse de diferentes tipos de datos"
   ]
  },
  {
   "cell_type": "markdown",
   "metadata": {
    "id": "zo3Xn4ZWJoVA"
   },
   "source": [
    "**Ventajas de las tuplas sobre las listas**\n",
    "\n",
    "A pesar de que las tuplas son inmutables, tienen algunas ventajas sobre las listas en Python. Las tuplas son más ***eficientes*** que las listas en términos de espacio y tiempo de ejecución.\n",
    "Además, las tuplas ***se utilizan comúnmente*** para representar colecciones de objetos inmutables, como coordenadas geográficas, fechas y horas, entre otros."
   ]
  },
  {
   "cell_type": "code",
   "execution_count": null,
   "metadata": {
    "colab": {
     "base_uri": "https://localhost:8080/"
    },
    "executionInfo": {
     "elapsed": 320,
     "status": "ok",
     "timestamp": 1723597087626,
     "user": {
      "displayName": "MICHAEL OMAR ENCALADA CALDERON",
      "userId": "13612596738603780546"
     },
     "user_tz": 300
    },
    "id": "sANk3rX3vEej",
    "outputId": "37c6cd29-44c0-44fe-fb79-60b12604cb1b"
   },
   "outputs": [
    {
     "name": "stdout",
     "output_type": "stream",
     "text": [
      "(1, 3, 3, 5, 10)\n"
     ]
    }
   ],
   "source": [
    "tupla_1 = (1, 3, 3, 5, 10)\n",
    "print(tupla_1)"
   ]
  },
  {
   "cell_type": "markdown",
   "metadata": {
    "id": "q2GgkwOZvEej"
   },
   "source": [
    "Podemos acceder a sus elementos mediante el índice"
   ]
  },
  {
   "cell_type": "code",
   "execution_count": null,
   "metadata": {
    "colab": {
     "base_uri": "https://localhost:8080/"
    },
    "executionInfo": {
     "elapsed": 291,
     "status": "ok",
     "timestamp": 1709604635544,
     "user": {
      "displayName": "Laboratorio de Ciencias Sociales",
      "userId": "13319980455210928079"
     },
     "user_tz": 300
    },
    "id": "ix-_ibTHvEej",
    "outputId": "a05e5ef0-8bb6-465b-eb65-6c7d4de0f546"
   },
   "outputs": [
    {
     "data": {
      "text/plain": [
       "3"
      ]
     },
     "execution_count": 57,
     "metadata": {},
     "output_type": "execute_result"
    }
   ],
   "source": [
    "tupla_1[1]"
   ]
  },
  {
   "cell_type": "markdown",
   "metadata": {
    "id": "3lUYWCzBvEek"
   },
   "source": [
    "No podemos modificar los elementos de ninguna manera"
   ]
  },
  {
   "cell_type": "code",
   "execution_count": null,
   "metadata": {
    "colab": {
     "base_uri": "https://localhost:8080/",
     "height": 141
    },
    "executionInfo": {
     "elapsed": 330,
     "status": "error",
     "timestamp": 1723597097918,
     "user": {
      "displayName": "MICHAEL OMAR ENCALADA CALDERON",
      "userId": "13612596738603780546"
     },
     "user_tz": 300
    },
    "id": "tnAYXSgGvEek",
    "outputId": "acd45b06-1c95-4763-f534-faee3a893517"
   },
   "outputs": [
    {
     "ename": "AttributeError",
     "evalue": "'tuple' object has no attribute 'append'",
     "output_type": "error",
     "traceback": [
      "\u001b[0;31m---------------------------------------------------------------------------\u001b[0m",
      "\u001b[0;31mAttributeError\u001b[0m                            Traceback (most recent call last)",
      "\u001b[0;32m<ipython-input-10-3cc53929657e>\u001b[0m in \u001b[0;36m<cell line: 1>\u001b[0;34m()\u001b[0m\n\u001b[0;32m----> 1\u001b[0;31m \u001b[0mtupla_1\u001b[0m\u001b[0;34m.\u001b[0m\u001b[0mappend\u001b[0m\u001b[0;34m(\u001b[0m\u001b[0;36m10\u001b[0m\u001b[0;34m)\u001b[0m\u001b[0;34m\u001b[0m\u001b[0;34m\u001b[0m\u001b[0m\n\u001b[0m",
      "\u001b[0;31mAttributeError\u001b[0m: 'tuple' object has no attribute 'append'"
     ]
    }
   ],
   "source": [
    "# tupla_1.append(10)"
   ]
  },
  {
   "cell_type": "markdown",
   "metadata": {
    "id": "yG9Xh1e1vEel"
   },
   "source": [
    "No podemos hacer duplicados"
   ]
  },
  {
   "cell_type": "code",
   "execution_count": null,
   "metadata": {
    "colab": {
     "base_uri": "https://localhost:8080/",
     "height": 141
    },
    "executionInfo": {
     "elapsed": 356,
     "status": "error",
     "timestamp": 1723597106507,
     "user": {
      "displayName": "MICHAEL OMAR ENCALADA CALDERON",
      "userId": "13612596738603780546"
     },
     "user_tz": 300
    },
    "id": "gr0Od4-yvEel",
    "outputId": "d1d1aad6-5e4c-4a26-b0a9-a8b6065bd6ae"
   },
   "outputs": [
    {
     "ename": "AttributeError",
     "evalue": "'tuple' object has no attribute 'copy'",
     "output_type": "error",
     "traceback": [
      "\u001b[0;31m---------------------------------------------------------------------------\u001b[0m",
      "\u001b[0;31mAttributeError\u001b[0m                            Traceback (most recent call last)",
      "\u001b[0;32m<ipython-input-11-fcc28323f25f>\u001b[0m in \u001b[0;36m<cell line: 1>\u001b[0;34m()\u001b[0m\n\u001b[0;32m----> 1\u001b[0;31m \u001b[0mtupla_2\u001b[0m \u001b[0;34m=\u001b[0m \u001b[0mtupla_1\u001b[0m\u001b[0;34m.\u001b[0m\u001b[0mcopy\u001b[0m\u001b[0;34m(\u001b[0m\u001b[0;34m)\u001b[0m\u001b[0;34m\u001b[0m\u001b[0;34m\u001b[0m\u001b[0m\n\u001b[0m",
      "\u001b[0;31mAttributeError\u001b[0m: 'tuple' object has no attribute 'copy'"
     ]
    }
   ],
   "source": [
    "# tupla_2 = tupla_1.copy()"
   ]
  },
  {
   "cell_type": "markdown",
   "metadata": {
    "id": "D3q9Hd3Za2qg"
   },
   "source": [
    "No se pueden quitar elementos."
   ]
  },
  {
   "cell_type": "code",
   "execution_count": null,
   "metadata": {
    "colab": {
     "base_uri": "https://localhost:8080/",
     "height": 141
    },
    "executionInfo": {
     "elapsed": 329,
     "status": "error",
     "timestamp": 1723596798523,
     "user": {
      "displayName": "MICHAEL OMAR ENCALADA CALDERON",
      "userId": "13612596738603780546"
     },
     "user_tz": 300
    },
    "id": "OMpPvsNQauJt",
    "outputId": "4b43cd55-4bed-46eb-b07d-dbcc4eb18d78"
   },
   "outputs": [
    {
     "ename": "AttributeError",
     "evalue": "'tuple' object has no attribute 'remove'",
     "output_type": "error",
     "traceback": [
      "\u001b[0;31m---------------------------------------------------------------------------\u001b[0m",
      "\u001b[0;31mAttributeError\u001b[0m                            Traceback (most recent call last)",
      "\u001b[0;32m<ipython-input-7-3ca4fa2c7725>\u001b[0m in \u001b[0;36m<cell line: 1>\u001b[0;34m()\u001b[0m\n\u001b[0;32m----> 1\u001b[0;31m \u001b[0mtupla_2\u001b[0m \u001b[0;34m=\u001b[0m \u001b[0mtupla_1\u001b[0m\u001b[0;34m.\u001b[0m\u001b[0mremove\u001b[0m\u001b[0;34m(\u001b[0m\u001b[0;36m10\u001b[0m\u001b[0;34m)\u001b[0m\u001b[0;34m\u001b[0m\u001b[0;34m\u001b[0m\u001b[0m\n\u001b[0m",
      "\u001b[0;31mAttributeError\u001b[0m: 'tuple' object has no attribute 'remove'"
     ]
    }
   ],
   "source": [
    "# tupla_2 = tupla_1.remove(10)"
   ]
  },
  {
   "cell_type": "markdown",
   "metadata": {
    "id": "5w_LG9aJvEel"
   },
   "source": [
    "### 5.3. <a id='5.3.'>Diccionarios</a>"
   ]
  },
  {
   "cell_type": "markdown",
   "metadata": {
    "id": "BT_O6JT0vEem"
   },
   "source": [
    "Un diccionario en Python es **una estructura de datos que permite almacenar pares de clave-valor**. Cada elemento del diccionario tiene una clave única que se utiliza para acceder a su valor correspondiente. Es como un libro de palabras y definiciones, donde las claves son las palabras y los valores son las definiciones. Los diccionarios se crean utilizando **llaves {}** y son muy eficientes para buscar valores asociados a una clave específica."
   ]
  },
  {
   "cell_type": "code",
   "execution_count": null,
   "metadata": {
    "id": "emNOPk-cvEem"
   },
   "outputs": [],
   "source": [
    "persona_1 = {'nombre':'José', 'apellido':'Gonzáles', 'edad':35, 'email':'jgonzales@gmail.com' }"
   ]
  },
  {
   "cell_type": "code",
   "execution_count": null,
   "metadata": {
    "colab": {
     "base_uri": "https://localhost:8080/"
    },
    "executionInfo": {
     "elapsed": 10,
     "status": "ok",
     "timestamp": 1723598243836,
     "user": {
      "displayName": "MICHAEL OMAR ENCALADA CALDERON",
      "userId": "13612596738603780546"
     },
     "user_tz": 300
    },
    "id": "80mKAOc2deiP",
    "outputId": "13896762-3bc0-4ce0-f094-fc56b0546b24"
   },
   "outputs": [
    {
     "name": "stdout",
     "output_type": "stream",
     "text": [
      "{'nombre': 'José', 'apellido': 'Gonzáles', 'edad': 35, 'email': 'jgonzales@gmail.com'}\n"
     ]
    }
   ],
   "source": [
    "print (persona_1)"
   ]
  },
  {
   "cell_type": "markdown",
   "metadata": {
    "id": "X2NiMnzZvEen"
   },
   "source": [
    "Podemos acceder a la información que necesitamos a través de las llaves"
   ]
  },
  {
   "cell_type": "code",
   "execution_count": null,
   "metadata": {
    "colab": {
     "base_uri": "https://localhost:8080/",
     "height": 35
    },
    "executionInfo": {
     "elapsed": 388,
     "status": "ok",
     "timestamp": 1709604988217,
     "user": {
      "displayName": "Laboratorio de Ciencias Sociales",
      "userId": "13319980455210928079"
     },
     "user_tz": 300
    },
    "id": "poQSxP8MvEen",
    "outputId": "448412b6-f1ba-4d00-d5b7-e6269cfd917f"
   },
   "outputs": [
    {
     "data": {
      "text/plain": [
       "'José'"
      ]
     },
     "execution_count": 62,
     "metadata": {},
     "output_type": "execute_result"
    }
   ],
   "source": [
    "persona_1['nombre']"
   ]
  },
  {
   "cell_type": "markdown",
   "metadata": {
    "id": "rNdvueHwvEeo"
   },
   "source": [
    "Puede haber más de un valor por cada llave"
   ]
  },
  {
   "cell_type": "code",
   "execution_count": null,
   "metadata": {
    "id": "ag6lZwzevEeo"
   },
   "outputs": [],
   "source": [
    "personas = { 'nombres' :['José', 'Antonia', 'María'],\n",
    "             'apellido':['Gonzáles', 'Méndez', 'Rojas'],\n",
    "             'edad'    :[35, 35, 35],\n",
    "             'email'   :['jgonzales@gmail.com', 'amendez@gmail.com', 'mrojas@gmail.com'] }"
   ]
  },
  {
   "cell_type": "code",
   "execution_count": null,
   "metadata": {
    "colab": {
     "base_uri": "https://localhost:8080/"
    },
    "executionInfo": {
     "elapsed": 301,
     "status": "ok",
     "timestamp": 1709605023293,
     "user": {
      "displayName": "Laboratorio de Ciencias Sociales",
      "userId": "13319980455210928079"
     },
     "user_tz": 300
    },
    "id": "KWZaywq5vEep",
    "outputId": "0edfff82-f734-4ef2-f905-bb14176501cf"
   },
   "outputs": [
    {
     "data": {
      "text/plain": [
       "[35, 35, 35]"
      ]
     },
     "execution_count": 64,
     "metadata": {},
     "output_type": "execute_result"
    }
   ],
   "source": [
    "personas['edad']"
   ]
  },
  {
   "cell_type": "markdown",
   "metadata": {
    "id": "a4P7wT-yvEep"
   },
   "source": [
    "Podemos añadir un nuevo par clave-valor"
   ]
  },
  {
   "cell_type": "code",
   "execution_count": null,
   "metadata": {
    "colab": {
     "base_uri": "https://localhost:8080/"
    },
    "executionInfo": {
     "elapsed": 297,
     "status": "ok",
     "timestamp": 1709605060769,
     "user": {
      "displayName": "Laboratorio de Ciencias Sociales",
      "userId": "13319980455210928079"
     },
     "user_tz": 300
    },
    "id": "EyIFGihXvEeq",
    "outputId": "4e0e78b8-b412-4ea7-bd81-258a0b2defec"
   },
   "outputs": [
    {
     "data": {
      "text/plain": [
       "{'nombre': 'José',\n",
       " 'apellido': 'Gonzáles',\n",
       " 'edad': 35,\n",
       " 'email': 'jgonzales@gmail.com',\n",
       " 'Residencia': 'Lima'}"
      ]
     },
     "execution_count": 65,
     "metadata": {},
     "output_type": "execute_result"
    }
   ],
   "source": [
    "persona_1.update( { 'Residencia' :  'Lima' } )\n",
    "persona_1"
   ]
  },
  {
   "cell_type": "markdown",
   "metadata": {
    "id": "qqQ-XpaHvEeq"
   },
   "source": [
    "Es posible emparejar listas en pares clave-valor"
   ]
  },
  {
   "cell_type": "code",
   "execution_count": null,
   "metadata": {
    "colab": {
     "base_uri": "https://localhost:8080/"
    },
    "executionInfo": {
     "elapsed": 4,
     "status": "ok",
     "timestamp": 1709605149350,
     "user": {
      "displayName": "Laboratorio de Ciencias Sociales",
      "userId": "13319980455210928079"
     },
     "user_tz": 300
    },
    "id": "3LnpVCl7vEer",
    "outputId": "e076f748-3d61-43bd-ec91-27bfe705d926"
   },
   "outputs": [
    {
     "data": {
      "text/plain": [
       "{'Fray Martin': 15001,\n",
       " 'Santa Rosa de Puquio': 15003,\n",
       " 'Cuchicorral': 15004,\n",
       " 'Santiago de Punchauca': 15006}"
      ]
     },
     "execution_count": 66,
     "metadata": {},
     "output_type": "execute_result"
    }
   ],
   "source": [
    "# Definir listas\n",
    "ciudades      = ['Fray Martin','Santa Rosa de Puquio','Cuchicorral','Santiago de Punchauca' ]\n",
    "codigo_postal = [15001,15003,15004,15006]\n",
    "\n",
    "# Emparejar las listas\n",
    "diccionario_1 = dict( zip( ciudades , codigo_postal ) )\n",
    "\n",
    "# Visualizar el resultado\n",
    "diccionario_1"
   ]
  },
  {
   "cell_type": "markdown",
   "metadata": {
    "id": "YYF_-vd5vEer"
   },
   "source": [
    "##  <a id='t6'>6. Control de flujo</a>"
   ]
  },
  {
   "cell_type": "markdown",
   "metadata": {
    "id": "losQKU3RvEes"
   },
   "source": [
    "Hasta ahora hemos elaborado scripts que se ejecutan de arriba hacia abajo y de izquierda a derecha; cuando se ejecuta el la última línea, el programa termina. Sin embargo, existen herramientas en Python que permiten alterar el flujo normal de un programa. El uso de estas herramientas es denominado control de flujo."
   ]
  },
  {
   "cell_type": "markdown",
   "metadata": {
    "id": "iZEwHR41vEes"
   },
   "source": [
    "### 6.1. <a id='6.1.'>Sentencias condicionales</a>"
   ]
  },
  {
   "cell_type": "markdown",
   "metadata": {
    "id": "smyGMZxwvEes"
   },
   "source": [
    "Este tipo de sentencias nos permiten alterar el flujo de un programa mediante el cumplimiento de una condición."
   ]
  },
  {
   "cell_type": "markdown",
   "metadata": {
    "id": "PzdX_t-VvEet"
   },
   "source": [
    "| Sentencia condicional    | Operacion realizada                                              |\n",
    "|--------------------------|------------------------------------------------------------------|\n",
    "| `if`                     | Se usa para ejecutar un bloque de código si una condición es verdadera                            |\n",
    "| `else`                   | Se usa en conjunto con if para ejecutar un bloque de código cuando la condición en el if es falsa |\n",
    "| `elif`                   | Se usa para verificar múltiples condiciones en orden y ejecutar el bloque de código de la primera condición verdadera                     |"
   ]
  },
  {
   "cell_type": "markdown",
   "metadata": {
    "id": "6dL6aXE7Kuht"
   },
   "source": [
    "**Lo curioso con elif**\n",
    "\n",
    "Se pueden verificar varias condiciones al incluir una o más verificaciones elif después de su declaración if inicial. Pero solo se ejecutará una condición.\n",
    "\n",
    "El bloque if/elif/else termina después de la primera condición verdadera. Esto significa que un else solo se ejecutará si ninguna de las condiciones es true."
   ]
  },
  {
   "cell_type": "code",
   "execution_count": null,
   "metadata": {
    "colab": {
     "base_uri": "https://localhost:8080/"
    },
    "executionInfo": {
     "elapsed": 387,
     "status": "ok",
     "timestamp": 1723598805925,
     "user": {
      "displayName": "MICHAEL OMAR ENCALADA CALDERON",
      "userId": "13612596738603780546"
     },
     "user_tz": 300
    },
    "id": "36ZF1-DwvEet",
    "outputId": "8be7429c-b97b-478a-dfe3-6490dfe9dece"
   },
   "outputs": [
    {
     "name": "stdout",
     "output_type": "stream",
     "text": [
      "Hace calor, lleva protector solar.\n"
     ]
    }
   ],
   "source": [
    "# Ejemplo 1\n",
    "temperatura = 35\n",
    "\n",
    "if temperatura > 30:\n",
    "    print(\"Hace calor, lleva protector solar.\")"
   ]
  },
  {
   "cell_type": "code",
   "execution_count": null,
   "metadata": {
    "colab": {
     "base_uri": "https://localhost:8080/"
    },
    "executionInfo": {
     "elapsed": 385,
     "status": "ok",
     "timestamp": 1723598876702,
     "user": {
      "displayName": "MICHAEL OMAR ENCALADA CALDERON",
      "userId": "13612596738603780546"
     },
     "user_tz": 300
    },
    "id": "lsVGfrb4vEeu",
    "outputId": "ef8ed810-aac6-4743-fa21-be640a48ecfd"
   },
   "outputs": [
    {
     "name": "stdout",
     "output_type": "stream",
     "text": [
      "No hace calor, descuida.\n"
     ]
    }
   ],
   "source": [
    "# Ejemplo 2\n",
    "temperatura = 25\n",
    "\n",
    "if temperatura > 30:\n",
    "    print(\"Hace calor, lleva protector solar.\")\n",
    "else:\n",
    "    print(\"No hace calor, descuida.\")"
   ]
  },
  {
   "cell_type": "code",
   "execution_count": null,
   "metadata": {
    "colab": {
     "base_uri": "https://localhost:8080/"
    },
    "executionInfo": {
     "elapsed": 370,
     "status": "ok",
     "timestamp": 1723599138430,
     "user": {
      "displayName": "MICHAEL OMAR ENCALADA CALDERON",
      "userId": "13612596738603780546"
     },
     "user_tz": 300
    },
    "id": "3bDEqS0FvEeu",
    "outputId": "4ecb4e3b-935d-4a81-e781-3fe3e84939fa"
   },
   "outputs": [
    {
     "name": "stdout",
     "output_type": "stream",
     "text": [
      "Hace calor, lleva protector solar.\n"
     ]
    }
   ],
   "source": [
    "# Ejemplo 3\n",
    "temperatura = 25\n",
    "\n",
    "if temperatura > 30:\n",
    "    print(\"Hace calor, lleva protector solar.\")\n",
    "elif temperatura > 26:\n",
    "    print(\"No hace calor, descuida\")\n",
    "else:\n",
    "    print(\"Hace frío, lleva un abrigo\")"
   ]
  },
  {
   "cell_type": "code",
   "execution_count": null,
   "metadata": {
    "colab": {
     "base_uri": "https://localhost:8080/"
    },
    "executionInfo": {
     "elapsed": 337,
     "status": "ok",
     "timestamp": 1723599516183,
     "user": {
      "displayName": "MICHAEL OMAR ENCALADA CALDERON",
      "userId": "13612596738603780546"
     },
     "user_tz": 300
    },
    "id": "e3IEl-E1hAlp",
    "outputId": "45bfcc43-a095-4997-e83b-b86b919e7d79"
   },
   "outputs": [
    {
     "name": "stdout",
     "output_type": "stream",
     "text": [
      "No hace calor, descuida\n"
     ]
    }
   ],
   "source": [
    "# Ejemplo 3\n",
    "temperatura = 25\n",
    "\n",
    "if temperatura > 30:\n",
    "    print(\"Hace calor, lleva protector solar.\")\n",
    "elif temperatura > 19:\n",
    "    print(\"No hace calor, descuida\")\n",
    "elif temperatura > 15:\n",
    "    print(\"No hace calor, descuida x2\")\n",
    "elif temperatura > 6:\n",
    "    print(\"No hace calor, descuida x3\")\n",
    "elif temperatura > 5:\n",
    "    print(\"No hace calor, descuida x3\")\n",
    "else:\n",
    "    print(\"Hace frío, lleva un abrigo\")"
   ]
  },
  {
   "cell_type": "code",
   "execution_count": null,
   "metadata": {
    "colab": {
     "base_uri": "https://localhost:8080/"
    },
    "executionInfo": {
     "elapsed": 348,
     "status": "ok",
     "timestamp": 1723599013389,
     "user": {
      "displayName": "MICHAEL OMAR ENCALADA CALDERON",
      "userId": "13612596738603780546"
     },
     "user_tz": 300
    },
    "id": "bCXXXYelccER",
    "outputId": "fbe694fd-f33a-472c-ad64-6693c01eb6f5"
   },
   "outputs": [
    {
     "name": "stdout",
     "output_type": "stream",
     "text": [
      "Hace frío, lleva un abrigo\n"
     ]
    }
   ],
   "source": [
    "# Ejemplo 3\n",
    "temperatura = 25\n",
    "\n",
    "if temperatura > 30:\n",
    "    print(\"Hace calor, lleva protector solar.\")\n",
    "if temperatura > 40:\n",
    "    print(\"No hace calor, descuida\")\n",
    "elif temperatura > 20:\n",
    "    print(\"No hace calor, descuida x2\")\n",
    "else:\n",
    "    print(\"Hace frío, lleva un abrigo\")"
   ]
  },
  {
   "cell_type": "code",
   "execution_count": null,
   "metadata": {
    "colab": {
     "base_uri": "https://localhost:8080/"
    },
    "executionInfo": {
     "elapsed": 339,
     "status": "ok",
     "timestamp": 1723599030274,
     "user": {
      "displayName": "MICHAEL OMAR ENCALADA CALDERON",
      "userId": "13612596738603780546"
     },
     "user_tz": 300
    },
    "id": "00_EUsUdb2TW",
    "outputId": "ddf22d5c-ebaf-4ca3-c62f-7e4e667536c2"
   },
   "outputs": [
    {
     "name": "stdout",
     "output_type": "stream",
     "text": [
      "Hace frío, lleva un abrigo\n"
     ]
    }
   ],
   "source": [
    "# Ejemplo 3\n",
    "temperatura = 25\n",
    "\n",
    "if temperatura > 40:\n",
    "    print(\"Hace calor, lleva protector solar.\")\n",
    "elif temperatura > 30:\n",
    "    print(\"No hace calor, descuida\")\n",
    "else:\n",
    "    print(\"Hace frío, lleva un abrigo\")"
   ]
  },
  {
   "cell_type": "markdown",
   "metadata": {
    "id": "cj8p380kvEev"
   },
   "source": [
    "### 6.2. <a id='6.2.'>Sentencias de bucle</a>"
   ]
  },
  {
   "cell_type": "markdown",
   "metadata": {
    "id": "Nk7WqXKVLQZ7"
   },
   "source": [
    "Un ciclo o bucle es una estructura de control de flujo en la programación que se utiliza para repetir un bloque de código, mientras que se cumpla una condición determinada."
   ]
  },
  {
   "cell_type": "markdown",
   "metadata": {
    "id": "YpEFD1xsLmqC"
   },
   "source": [
    "La condición es una expresión booleana que se evalúa en cada iteración del ciclo. Si la condición es verdadera, el bloque de código dentro del ciclo se ejecuta una y otra vez. Si es falsa, el ciclo se detiene y la ejecución continúa después del ciclo."
   ]
  },
  {
   "cell_type": "markdown",
   "metadata": {
    "id": "8c8RCojPvEev"
   },
   "source": [
    "Iterar = repetir una acción una o más veces"
   ]
  },
  {
   "cell_type": "markdown",
   "metadata": {
    "id": "LpkyfaeLvEev"
   },
   "source": [
    "| Sentencia de bucle       | Operacion realizada                                              |\n",
    "|--------------------------|------------------------------------------------------------------|\n",
    "| `for`                     | Se utiliza para iterar sobre una secuencia (como una lista, tupla o cadena) o un rango de números y ejecutar un bloque de código para cada elemento en esa secuencia.                            |\n",
    "| `while`                   |  Se utiliza para repetir un bloque de código mientras una condición sea verdadera. El código se ejecuta una y otra vez hasta que la condición sea falsa. |"
   ]
  },
  {
   "cell_type": "code",
   "execution_count": null,
   "metadata": {
    "colab": {
     "base_uri": "https://localhost:8080/"
    },
    "executionInfo": {
     "elapsed": 355,
     "status": "ok",
     "timestamp": 1723599887984,
     "user": {
      "displayName": "MICHAEL OMAR ENCALADA CALDERON",
      "userId": "13612596738603780546"
     },
     "user_tz": 300
    },
    "id": "T8uklOG8vEew",
    "outputId": "95251ce9-b40f-4056-e20b-eb38651fec64"
   },
   "outputs": [
    {
     "name": "stdout",
     "output_type": "stream",
     "text": [
      "Su estatura es 1.65 metros\n",
      "Su estatura es 1.72 metros\n",
      "Su estatura es 1.71 metros\n",
      "Su estatura es 1.82 metros\n",
      "Su estatura es 1.68 metros\n",
      "Su estatura es 1.65 metros\n"
     ]
    }
   ],
   "source": [
    "# Ejemplo 1:\n",
    "lista_estaturas = [165, 172, 171, 182, 168, 165]\n",
    "\n",
    "for estatura in lista_estaturas:\n",
    "\n",
    "    estatura_metros = estatura/100 #operacion / tarea\n",
    "\n",
    "    print(\"Su estatura es \" + str(estatura_metros) + \" metros\") #resultado"
   ]
  },
  {
   "cell_type": "code",
   "execution_count": null,
   "metadata": {
    "colab": {
     "base_uri": "https://localhost:8080/"
    },
    "executionInfo": {
     "elapsed": 390,
     "status": "ok",
     "timestamp": 1723599937485,
     "user": {
      "displayName": "MICHAEL OMAR ENCALADA CALDERON",
      "userId": "13612596738603780546"
     },
     "user_tz": 300
    },
    "id": "FPivjVfQTMzx",
    "outputId": "b6928ed7-2c4e-49e3-c043-603e0992bb46"
   },
   "outputs": [
    {
     "name": "stdout",
     "output_type": "stream",
     "text": [
      "el numero es 11\n",
      "el numero es 12\n",
      "el numero es 13\n",
      "el numero es 14\n",
      "el numero es 15\n",
      "el numero es 17\n",
      "el numero es 18\n",
      "el numero es 19\n",
      "el numero es 20\n"
     ]
    }
   ],
   "source": [
    "lista_numeros = [1, 2, 3, 4, 5, 7, 8, 9, 10]\n",
    "\n",
    "for n in lista_numeros:\n",
    "  suma = n + 10\n",
    "  print(\"el numero es \" + str(suma))"
   ]
  },
  {
   "cell_type": "markdown",
   "metadata": {
    "id": "bZEwVvtCLISA"
   },
   "source": [
    "**While**\n",
    "\n",
    "El ciclo while en Python permite ejecutar un bloque de código repetidamente mientras se cumpla una condición, la cual se evalúa en cada iteración del ciclo."
   ]
  },
  {
   "cell_type": "markdown",
   "metadata": {
    "id": "PdZ3vtXbbuCV"
   },
   "source": [
    "**Ventajas**\n",
    "- Es útil para tareas que deben repetirse varias veces\n",
    "- Puede anidarse para crear estructuras más complejas\n",
    "- Es flexible y puede interrumpirse\n",
    "\n",
    "**Desventajas**\n",
    "- Si no se actualiza, puede ejecutarse infinitamente\n",
    "- Puede ser difícil de entender o ser ineficiente si no está correctamente estructurado"
   ]
  },
  {
   "cell_type": "code",
   "execution_count": null,
   "metadata": {
    "colab": {
     "base_uri": "https://localhost:8080/"
    },
    "executionInfo": {
     "elapsed": 4303,
     "status": "ok",
     "timestamp": 1723600425943,
     "user": {
      "displayName": "MICHAEL OMAR ENCALADA CALDERON",
      "userId": "13612596738603780546"
     },
     "user_tz": 300
    },
    "id": "kImWOP1vvEew",
    "outputId": "7c2adc29-f56a-4fb8-9cbf-178a3550a084"
   },
   "outputs": [
    {
     "name": "stdout",
     "output_type": "stream",
     "text": [
      "¡Te quedan 10 puntos de vida!\n",
      "Enemigo ataca. ¿Cuánto daño recibes? 10\n",
      "¡Game over! Tu personaje ha sido derrotado.\n"
     ]
    }
   ],
   "source": [
    "vida_jugador = 10\n",
    "\n",
    "while vida_jugador > 0: #condicion\n",
    "    print(\"¡Te quedan\", vida_jugador, \"puntos de vida!\")\n",
    "\n",
    "    ataque_enemigo = int(input(\"Enemigo ataca. ¿Cuánto daño recibes? \"))\n",
    "\n",
    "    vida_jugador = vida_jugador - ataque_enemigo #tarea\n",
    "\n",
    "print(\"¡Game over! Tu personaje ha sido derrotado.\")"
   ]
  },
  {
   "cell_type": "code",
   "execution_count": null,
   "metadata": {
    "colab": {
     "base_uri": "https://localhost:8080/"
    },
    "executionInfo": {
     "elapsed": 72664,
     "status": "ok",
     "timestamp": 1723600421652,
     "user": {
      "displayName": "MICHAEL OMAR ENCALADA CALDERON",
      "userId": "13612596738603780546"
     },
     "user_tz": 300
    },
    "id": "M1DbK93za82N",
    "outputId": "8f4048e6-debe-449e-c9ea-e3788ee576da"
   },
   "outputs": [
    {
     "name": "stdout",
     "output_type": "stream",
     "text": [
      "¡Te quedan 10.0 puntos de vida!\n",
      "Enemigo ataca. ¿Cuánto daño recibes? 8\n",
      "¡Te quedan 2.0 puntos de vida!\n",
      "Enemigo ataca. ¿Cuánto daño recibes? 10\n",
      "¡Game over! Tu personaje ha sido derrotado.\n"
     ]
    }
   ],
   "source": [
    "vida_jugador = 10.0  #cambiar a float\n",
    "\n",
    "while vida_jugador > 0:\n",
    "    print(\"¡Te quedan\", vida_jugador, \"puntos de vida!\")\n",
    "\n",
    "    # cambiar input a float\n",
    "    ataque_enemigo = float(input(\"Enemigo ataca. ¿Cuánto daño recibes? \"))\n",
    "\n",
    "    vida_jugador = vida_jugador - ataque_enemigo\n",
    "\n",
    "print(\"¡Game over! Tu personaje ha sido derrotado.\")"
   ]
  },
  {
   "cell_type": "code",
   "execution_count": null,
   "metadata": {
    "colab": {
     "base_uri": "https://localhost:8080/"
    },
    "executionInfo": {
     "elapsed": 346,
     "status": "ok",
     "timestamp": 1723600199976,
     "user": {
      "displayName": "MICHAEL OMAR ENCALADA CALDERON",
      "userId": "13612596738603780546"
     },
     "user_tz": 300
    },
    "id": "MWwafxbxUN3L",
    "outputId": "8b19975a-7c25-46c2-93d1-4fc2eb657c26"
   },
   "outputs": [
    {
     "data": {
      "text/plain": [
       "float"
      ]
     },
     "execution_count": 31,
     "metadata": {},
     "output_type": "execute_result"
    }
   ],
   "source": [
    "type(vida_jugador)"
   ]
  },
  {
   "cell_type": "markdown",
   "metadata": {
    "id": "-na7JnBEvEex"
   },
   "source": [
    "##  <a id='t7'>7. Funciones</a>"
   ]
  },
  {
   "cell_type": "markdown",
   "metadata": {
    "id": "C6Nz6a68vEex"
   },
   "source": [
    "Las funciones en Python son **bloques de código**  que realizan tareas específicas y pueden ser reutilizados en diferentes partes de un programa. Funcionan como \"máquinas\" que toman datos de entrada (llamados argumentos o parámetros), los procesan y devuelven un resultado. Aquí hay una explicación breve:"
   ]
  },
  {
   "cell_type": "markdown",
   "metadata": {
    "id": "KqqSclYrYgoN"
   },
   "source": [
    "![image.png](data:image/png;base64,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)"
   ]
  },
  {
   "cell_type": "code",
   "execution_count": 4,
   "metadata": {
    "executionInfo": {
     "elapsed": 376,
     "status": "ok",
     "timestamp": 1723680963050,
     "user": {
      "displayName": "MICHAEL OMAR ENCALADA CALDERON",
      "userId": "13612596738603780546"
     },
     "user_tz": 300
    },
    "id": "GoMRgw9nvEey"
   },
   "outputs": [],
   "source": [
    "def saludar(nombre): #input/entrada\n",
    "\n",
    "    mensaje = \"Hola, mi estimado \" + nombre #tarea\n",
    "\n",
    "    return mensaje #resultado/output"
   ]
  },
  {
   "cell_type": "code",
   "execution_count": 5,
   "metadata": {
    "colab": {
     "base_uri": "https://localhost:8080/",
     "height": 35
    },
    "executionInfo": {
     "elapsed": 409,
     "status": "ok",
     "timestamp": 1723680975780,
     "user": {
      "displayName": "MICHAEL OMAR ENCALADA CALDERON",
      "userId": "13612596738603780546"
     },
     "user_tz": 300
    },
    "id": "1kiqD-kMvEez",
    "outputId": "381a92d5-df4b-4943-d90c-f6548571697f"
   },
   "outputs": [
    {
     "data": {
      "application/vnd.google.colaboratory.intrinsic+json": {
       "type": "string"
      },
      "text/plain": [
       "'Hola, mi estimado Andy'"
      ]
     },
     "execution_count": 5,
     "metadata": {},
     "output_type": "execute_result"
    }
   ],
   "source": [
    "saludar(\"Andy\")"
   ]
  },
  {
   "cell_type": "markdown",
   "metadata": {
    "id": "BsyRLOlAvEez"
   },
   "source": [
    "La estructura básica de una función es la siguiente:"
   ]
  },
  {
   "cell_type": "code",
   "execution_count": 6,
   "metadata": {
    "executionInfo": {
     "elapsed": 369,
     "status": "ok",
     "timestamp": 1723681229127,
     "user": {
      "displayName": "MICHAEL OMAR ENCALADA CALDERON",
      "userId": "13612596738603780546"
     },
     "user_tz": 300
    },
    "id": "0zgo1rITvEez"
   },
   "outputs": [],
   "source": [
    "def calcular_imc(peso, estatura):\n",
    "    '''\n",
    "    Objetivo: ¿Para que?\n",
    "        - Calcular el IMC de una persona dado su peso y altura\n",
    "\n",
    "    Input:\n",
    "        - peso:     peso en kilogramos\n",
    "        - estatura: estatura en centrímetros\n",
    "\n",
    "    Output:\n",
    "        - IMC calculado\n",
    "    '''\n",
    "    estatura_cm = estatura/100\n",
    "    imc         = peso/(estatura_cm)**2\n",
    "    imc         = round(imc, 3)\n",
    "    return imc"
   ]
  },
  {
   "cell_type": "code",
   "execution_count": 7,
   "metadata": {
    "colab": {
     "base_uri": "https://localhost:8080/"
    },
    "executionInfo": {
     "elapsed": 395,
     "status": "ok",
     "timestamp": 1723681243165,
     "user": {
      "displayName": "MICHAEL OMAR ENCALADA CALDERON",
      "userId": "13612596738603780546"
     },
     "user_tz": 300
    },
    "id": "hBIXn4jlvEe0",
    "outputId": "e0aefc3b-cb53-4f46-efc1-d32a2dfb2ce1"
   },
   "outputs": [
    {
     "data": {
      "text/plain": [
       "20.453"
      ]
     },
     "execution_count": 7,
     "metadata": {},
     "output_type": "execute_result"
    }
   ],
   "source": [
    "calcular_imc(70,185)"
   ]
  },
  {
   "cell_type": "markdown",
   "metadata": {
    "id": "p8feft2bvEe0"
   },
   "source": [
    "Un ejemplo adicional de función:"
   ]
  },
  {
   "cell_type": "code",
   "execution_count": 11,
   "metadata": {
    "executionInfo": {
     "elapsed": 506,
     "status": "ok",
     "timestamp": 1723681617055,
     "user": {
      "displayName": "MICHAEL OMAR ENCALADA CALDERON",
      "userId": "13612596738603780546"
     },
     "user_tz": 300
    },
    "id": "ElcvR6pw6K2V"
   },
   "outputs": [],
   "source": [
    "def par_impar( n ):\n",
    "\n",
    "    '''\n",
    "    Objetivo:\n",
    "        - Determinar si un número es par o impar\n",
    "\n",
    "    Input:\n",
    "        - n: Número\n",
    "\n",
    "    Output:\n",
    "        - Se indica si el número es par o impar.\n",
    "    '''\n",
    "\n",
    "    if n%2 == 0:\n",
    "        output = print(f\"{n} es un número par\")\n",
    "    else:\n",
    "        output = print(f\"{n} es un número impar\")\n",
    "\n",
    "    return output"
   ]
  },
  {
   "cell_type": "code",
   "execution_count": 10,
   "metadata": {
    "colab": {
     "base_uri": "https://localhost:8080/",
     "height": 35
    },
    "executionInfo": {
     "elapsed": 386,
     "status": "ok",
     "timestamp": 1723681376742,
     "user": {
      "displayName": "MICHAEL OMAR ENCALADA CALDERON",
      "userId": "13612596738603780546"
     },
     "user_tz": 300
    },
    "id": "KE3F0g-z6K2W",
    "outputId": "4c8f4d33-253a-4d8e-b66a-947fc709e83c"
   },
   "outputs": [
    {
     "data": {
      "application/vnd.google.colaboratory.intrinsic+json": {
       "type": "string"
      },
      "text/plain": [
       "'17 es un número impar'"
      ]
     },
     "execution_count": 10,
     "metadata": {},
     "output_type": "execute_result"
    }
   ],
   "source": [
    "par_impar(18)"
   ]
  },
  {
   "cell_type": "code",
   "execution_count": null,
   "metadata": {
    "id": "NgkeFeVH6K2Y",
    "outputId": "fd1b54f2-a1e4-4a04-92a2-3554af0a126d"
   },
   "outputs": [
    {
     "data": {
      "text/plain": [
       "'9 es un número impar'"
      ]
     },
     "execution_count": 83,
     "metadata": {},
     "output_type": "execute_result"
    }
   ],
   "source": [
    "par_impar(9)"
   ]
  },
  {
   "cell_type": "code",
   "execution_count": null,
   "metadata": {
    "id": "z5IWV1pB6K2Y",
    "outputId": "43b93223-db05-4048-dc3e-0bd3d4330a1d"
   },
   "outputs": [
    {
     "data": {
      "text/plain": [
       "'10005 es un número impar'"
      ]
     },
     "execution_count": 84,
     "metadata": {},
     "output_type": "execute_result"
    }
   ],
   "source": [
    "par_impar(10005)"
   ]
  },
  {
   "cell_type": "markdown",
   "metadata": {
    "id": "i_2W6IxXawa-"
   },
   "source": [
    "Ejemplo de Economía:"
   ]
  },
  {
   "cell_type": "code",
   "execution_count": 12,
   "metadata": {
    "executionInfo": {
     "elapsed": 412,
     "status": "ok",
     "timestamp": 1723681913716,
     "user": {
      "displayName": "MICHAEL OMAR ENCALADA CALDERON",
      "userId": "13612596738603780546"
     },
     "user_tz": 300
    },
    "id": "ai8kd7LQvEe1"
   },
   "outputs": [],
   "source": [
    "def pobreza_hogares( n_personas, n_habitaciones, ingreso ):\n",
    "\n",
    "    '''\n",
    "    Objetivo:\n",
    "        - Determinar si un hogar es pobre\n",
    "\n",
    "    Input:\n",
    "        - n_personas:     número de personas que componen regularmente el hogar\n",
    "        - n_habitaciones: número de habitaciones del hogar\n",
    "        - ingreso:        ingreso monetario bruto mensual a nivel de hogar\n",
    "\n",
    "    Procedimiento:\n",
    "        - Se calcula el ratio de personas por habitación. Si este ratio es menor a 2.4,\n",
    "          se considera que existe hacinamiento en el hogar.\n",
    "        - Se calcula el ingreso per cápita mensual. Si el valor de este indicador es\n",
    "          mayor a 450, se considera que el ingreso es suficiente (no pobre).\n",
    "        - Si se cumplen las dos condiciones: no hacinamiento e ingreso suficiente,\n",
    "          el hogar se considera \"no pobre\". Todos los demás casos posibles sí\n",
    "          implican que el hogar es pobre.\n",
    "\n",
    "    Output:\n",
    "        - Un veredicto que determina si el hogar es pobre.\n",
    "    '''\n",
    "\n",
    "    ratio_habs         = n_personas / n_habitaciones\n",
    "    ingreso_pc         = ingreso    / n_personas\n",
    "    no_hacinamiento    = ratio_habs < 2.4\n",
    "    ingreso_suficiente = ingreso_pc > 450\n",
    "\n",
    "    no_pobre = no_hacinamiento and ingreso_suficiente\n",
    "\n",
    "    if no_pobre  == True:\n",
    "        veredicto = \"No es un hogar pobre\"\n",
    "    else:\n",
    "        veredicto = \"Sí es un hogar pobre\"\n",
    "\n",
    "    return veredicto"
   ]
  },
  {
   "cell_type": "code",
   "execution_count": 13,
   "metadata": {
    "colab": {
     "base_uri": "https://localhost:8080/",
     "height": 35
    },
    "executionInfo": {
     "elapsed": 8,
     "status": "ok",
     "timestamp": 1723681952262,
     "user": {
      "displayName": "MICHAEL OMAR ENCALADA CALDERON",
      "userId": "13612596738603780546"
     },
     "user_tz": 300
    },
    "id": "MpthuVCJvEe1",
    "outputId": "c06dbf45-b62d-47ad-aaed-d9d47321914d"
   },
   "outputs": [
    {
     "data": {
      "application/vnd.google.colaboratory.intrinsic+json": {
       "type": "string"
      },
      "text/plain": [
       "'Sí es un hogar pobre'"
      ]
     },
     "execution_count": 13,
     "metadata": {},
     "output_type": "execute_result"
    }
   ],
   "source": [
    "# Hogar 1\n",
    "\n",
    "n_personas_1     = 5\n",
    "n_habitaciones_1 = 3\n",
    "ingreso_1        = 1800\n",
    "\n",
    "pobreza_hogares(n_personas_1, n_habitaciones_1, ingreso_1)"
   ]
  },
  {
   "cell_type": "code",
   "execution_count": 14,
   "metadata": {
    "colab": {
     "base_uri": "https://localhost:8080/",
     "height": 35
    },
    "executionInfo": {
     "elapsed": 499,
     "status": "ok",
     "timestamp": 1723682032153,
     "user": {
      "displayName": "MICHAEL OMAR ENCALADA CALDERON",
      "userId": "13612596738603780546"
     },
     "user_tz": 300
    },
    "id": "xaKQhV0fvEe1",
    "outputId": "b3deff7d-69da-40cd-c57a-70a3bef2e40e"
   },
   "outputs": [
    {
     "data": {
      "application/vnd.google.colaboratory.intrinsic+json": {
       "type": "string"
      },
      "text/plain": [
       "'No es un hogar pobre'"
      ]
     },
     "execution_count": 14,
     "metadata": {},
     "output_type": "execute_result"
    }
   ],
   "source": [
    "# Hogar 2\n",
    "\n",
    "n_personas_2     = 3\n",
    "n_habitaciones_2 = 3\n",
    "ingreso_2        = 2500\n",
    "\n",
    "pobreza_hogares(n_personas_2, n_habitaciones_2, ingreso_2)"
   ]
  },
  {
   "cell_type": "code",
   "execution_count": 15,
   "metadata": {
    "colab": {
     "base_uri": "https://localhost:8080/",
     "height": 35
    },
    "executionInfo": {
     "elapsed": 393,
     "status": "ok",
     "timestamp": 1723682052239,
     "user": {
      "displayName": "MICHAEL OMAR ENCALADA CALDERON",
      "userId": "13612596738603780546"
     },
     "user_tz": 300
    },
    "id": "DyCT1stR-2Jv",
    "outputId": "d6db1984-28e6-4bac-8c43-3219efff068d"
   },
   "outputs": [
    {
     "data": {
      "application/vnd.google.colaboratory.intrinsic+json": {
       "type": "string"
      },
      "text/plain": [
       "'Sí es un hogar pobre'"
      ]
     },
     "execution_count": 15,
     "metadata": {},
     "output_type": "execute_result"
    }
   ],
   "source": [
    "# Hogar 3\n",
    "\n",
    "n_personas_3     = 10\n",
    "n_habitaciones_3 = 20\n",
    "ingreso_3        = 4000\n",
    "\n",
    "pobreza_hogares(n_personas_3, n_habitaciones_3, ingreso_3)"
   ]
  }
 ],
 "metadata": {
  "colab": {
   "provenance": []
  },
  "kernelspec": {
   "display_name": "Python 3 (ipykernel)",
   "language": "python",
   "name": "python3"
  },
  "language_info": {
   "codemirror_mode": {
    "name": "ipython",
    "version": 3
   },
   "file_extension": ".py",
   "mimetype": "text/x-python",
   "name": "python",
   "nbconvert_exporter": "python",
   "pygments_lexer": "ipython3",
   "version": "3.11.5"
  }
 },
 "nbformat": 4,
 "nbformat_minor": 1
}
